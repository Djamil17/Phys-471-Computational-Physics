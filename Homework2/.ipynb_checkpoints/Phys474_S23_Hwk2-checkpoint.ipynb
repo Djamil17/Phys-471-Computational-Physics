{
 "cells": [
  {
   "cell_type": "markdown",
   "id": "18a85d3b",
   "metadata": {},
   "source": [
    "Physics 474 - Spring 2023 <br>\n",
    "Homework 2 - Fitting Data, Parameter Estimation and Confidence Interval\n",
    "\n",
    "<font color='red'>Author: "
   ]
  },
  {
   "cell_type": "markdown",
   "id": "ac60823f",
   "metadata": {},
   "source": [
    "_________________________________________________________________________________\n",
    "In this homework we will practice fitting a function with parameters to some data. \n",
    "In addition, we will place some emphisis also on determining the confidence interval for\n",
    "the fit parameters.\n",
    "\n",
    "skills we will excercise:\n",
    "- reading in data\n",
    "- plotting data\n",
    "- writing user defined functions\n",
    "- fitting a function to data with 'curve_fit'\n",
    "- calculating $\\chi^2$ and $\\chi^2$ probaility\n",
    "- plotting residuals\n",
    "- dtermining confidence intervals using the $\\Delta \\chi^2$\n",
    "- analyzing data and making observations\n",
    "\n",
    "__________________________________________________________________________"
   ]
  },
  {
   "cell_type": "markdown",
   "id": "c923cc11",
   "metadata": {},
   "source": [
    "We will be investgating something called the Cosmic Microwave Background or CMB for short.\n",
    "\n",
    "Quoted from Wikipedia:\n",
    "\n",
    "_\"In Big Bang cosmology the cosmic microwave background (CMB, CMBR) is electromagnetic radiation that is a remnant from a primordial stage of the universe, also known as \"relic radiation\". The CMB is faint cosmic background radiation filling all space. It is an important source of data on the early universe because it is the oldest electromagnetic radiation in the universe, dating to the epoch of recombination when the first atoms were formed. With a standard optical telescope, the background space between stars and galaxies is almost completely dark. However, a sufficiently sensitive radio telescope detects a faint background glow that is almost uniform and is not associated with any star, galaxy, or other object. This glow is strongest in the microwave region of the radio spectrum. The accidental discovery of the CMB in 1965 by American radio astronomers Arno Penzias and Robert Wilson was the culmination of work initiated in the 1940s, and earned the discoverers the 1978 Nobel Prize in Physics.\"_\n",
    "\n",
    "\n",
    "We will be using measurements of CMB microwave intensity (W/m^2/sr/Hz) vs microwave frequency (GHz)\n",
    "compiled around 2000 in the source \n",
    "\n",
    "**Salvaterra and Burigana, 2000 arXiv:astro-ph/0206350**\n",
    "\n",
    "I have compiled the data into an easily read NumPy binary data file\n",
    "\n",
    "\"CMB_Intensity_Data.npz\"\n",
    "\n",
    "We will use this data to:\n",
    "- plot the intensity vs frequency\n",
    "- fit the data to a blackbody intensity vs frequency function to estimate the best-fit Temperature\n",
    "- plot the data along with the best fit\n",
    "- plot the residuals (fractional residuals in this particular case)\n",
    "- calcultae the best-fit $\\chi^2$\n",
    "- use the $\\Delta \\chi^2$ as a function of temperature to estimate the confidence intervals for fit temperature\n",
    "_________________________________________________________________________________________"
   ]
  },
  {
   "cell_type": "markdown",
   "id": "06f82e1b",
   "metadata": {},
   "source": [
    "Background for the problem:\n",
    "\n",
    "Black-Body Radiation\n",
    "\n",
    "Every physical body (including the CMB surface) of temperature $T$ spontaneously and continuously emits electromagnetic radiation of radiance $I(f;T)$ which describes the spectral emissive power per unit area, per unit solid angle, per unit frequency for particular radiation frequencies $f$. The relationship is given by Planck's radiation law\n",
    "\n",
    "$ \\,\\,\\,\\,\\,\\,\\,{\\Large I(f;T) = \\frac{2h}{c^2}\\frac{f^3}{e^{hf/kT}-1} }$\n",
    "\n",
    "where $h$ is Plank's constant, $k$ is Boltzman's constant and $c$ is the speed of light.\n",
    "___________________________________________________________________\n",
    "\n",
    "You are given data for measurments of $I$ vs frequency $f$ and are being asked to find the temperature $T$ that gives the best-fir between Plank's law and the data. You will then compare the best-fit to the data and estimate the confidence interval on the parameter $T$.\n",
    "___________________________________________________________________________\n"
   ]
  },
  {
   "cell_type": "markdown",
   "id": "1cf85b97",
   "metadata": {},
   "source": [
    "Part 1) (2 pts)\n",
    "\n",
    "Read in the datafile 'CMB_Intensity_Data.npz' and print the \"keys\" in the file\n",
    "\n",
    "e.g.\n",
    "\n",
    "filename = 'CMB_Intensity_Data.npz'<br>\n",
    "Data = np.load(filename)<br>\n",
    "print(Data.files)"
   ]
  },
  {
   "cell_type": "code",
   "execution_count": 481,
   "id": "fc454297",
   "metadata": {
    "ExecuteTime": {
     "end_time": "2023-02-12T15:56:00.897316Z",
     "start_time": "2023-02-12T15:56:00.889260Z"
    }
   },
   "outputs": [
    {
     "data": {
      "text/plain": [
       "['description', 'frequency', 'intensity', 'error']"
      ]
     },
     "execution_count": 481,
     "metadata": {},
     "output_type": "execute_result"
    }
   ],
   "source": [
    "# Your code...\n",
    "from math import exp\n",
    "import numpy as np\n",
    "import pandas as pd\n",
    "import plotly.express as pex\n",
    "import plotly.graph_objects as go\n",
    "from plotly.subplots import make_subplots\n",
    "from scipy.optimize import curve_fit\n",
    "import scipy.stats as st \n",
    "\n",
    "\n",
    "## define constants \n",
    "\n",
    "h=6.626e-34\n",
    "k=1.38e-23\n",
    "c=3.0e8\n",
    "\n",
    "## useful functions\n",
    "\n",
    "planck_radiation_law=lambda f,T: (2*h/c**2)*(f**3/(np.exp(h*f/(k*T))-1))\n",
    "\n",
    "def chi_squared(theory:np.array,data:np.array,sigma:np.array)->np.array:\n",
    "    \"\"\"\n",
    "    This function calculates TOTAL chi-squared between Theory and Data using sigma \n",
    "    as errors.\n",
    "    The 3 arrays must be of equal size.\n",
    "    Note: This is NOT reduced chi-squared\n",
    "    Usage:  \n",
    "     inputs: theory = input hypothesis (or Theory)\n",
    "             data = Data points\n",
    "             sigma = uncertainty on data points\n",
    "     output: if arrays are of equal size returns the TOTAL chi-squared\n",
    "             if arrays are not of equal size returns -1.0\n",
    "    \"\"\"\n",
    "    if np.size(theory)==np.size(data) and np.size(data)==np.size(sigma):\n",
    "        return np.sum((theory-data)**2/sigma**2)\n",
    "    else:\n",
    "        print('error - arrays of unequal size')\n",
    "        return -1.\n",
    "\n",
    "## import data\n",
    "\n",
    "filename='CMB_Intensity_Data.npz'\n",
    "cmb_intensity_data=np.load(f'data/{filename}')\n",
    "cmb_intensity_data.files\n"
   ]
  },
  {
   "cell_type": "markdown",
   "id": "15348361",
   "metadata": {},
   "source": [
    "Print the 'description' \n",
    "\n",
    "e.g. \n",
    "\n",
    "print(Data['description'])"
   ]
  },
  {
   "cell_type": "code",
   "execution_count": 482,
   "id": "6ad710e6",
   "metadata": {
    "ExecuteTime": {
     "end_time": "2023-02-12T15:56:00.924821Z",
     "start_time": "2023-02-12T15:56:00.921094Z"
    }
   },
   "outputs": [
    {
     "data": {
      "text/plain": [
       "array(['-----------------------------------------------',\n",
       "       'This file contains data for Cosmic Microwave Background (CMB)',\n",
       "       'Data compiled from salvaterra and burigana, 2000 arXiv:astro-ph/0206350',\n",
       "       'Intensity measurements versus microwave frequency',\n",
       "       'The data is given as frequency (GHz)',\n",
       "       'CMB Intensity (W/m^2/sr/Hz) and error on Intensity',\n",
       "       'description = this text describing data',\n",
       "       'frequency = Frequency of mesurement in GHz',\n",
       "       'intensity = CMB Intensity (W/m^2/sr/Hz)',\n",
       "       'error = estimated experimental uncertainty of intensity in same units',\n",
       "       'NOTE:', 'Removed 1 data point f= 113.6 Ghz T=2.279 K',\n",
       "       'and used delta_T = 0.025K in place of 0.01K for last 40 points',\n",
       "       '--------------------------------------------------'], dtype='<U71')"
      ]
     },
     "execution_count": 482,
     "metadata": {},
     "output_type": "execute_result"
    }
   ],
   "source": [
    "## print description of data\n",
    "cmb_intensity_data['description']"
   ]
  },
  {
   "cell_type": "markdown",
   "id": "eee49fbc",
   "metadata": {},
   "source": [
    "Part 2)  (3 pts)\n",
    "\n",
    "Make a plot of the data with errorbars vs frequency [GHz]\n",
    "- use log scale for both x and y axes\n",
    "- set x-ticks at 0.1, 1, 10, 100, 1000 GHz"
   ]
  },
  {
   "cell_type": "code",
   "execution_count": 483,
   "id": "efa604c6",
   "metadata": {
    "ExecuteTime": {
     "end_time": "2023-02-12T15:56:00.970147Z",
     "start_time": "2023-02-12T15:56:00.954481Z"
    }
   },
   "outputs": [
    {
     "data": {
      "application/vnd.plotly.v1+json": {
       "config": {
        "plotlyServerURL": "https://plot.ly"
       },
       "data": [
        {
         "error_y": {
          "array": [
           6.13692517547149e-23,
           1.327184761247379e-22,
           1.3717950346208788e-22,
           6.193901221624085e-23,
           3.3051629897352035e-22,
           9.216358670989742e-23,
           2.288013550643663e-22,
           6.194613346657685e-22,
           2.0730723105099006e-22,
           1.9110478761943663e-22,
           3.8754208058564405e-22,
           1.26126410224579e-22,
           3.6862402309349244e-22,
           1.7202415765882286e-22,
           1.1375078326067102e-21,
           4.0316562551035114e-22,
           2.660722628998358e-22,
           5.113075987395461e-21,
           4.849353253375096e-22,
           1.207800635403375e-21,
           1.0352996895138075e-21,
           1.3551094442300917e-20,
           5.688281133539365e-21,
           1.7770116892536704e-21,
           4.909892529038938e-22,
           1.869562176735785e-20,
           4.837659491336216e-20,
           1.6570609445926653e-20,
           2.0850392216519457e-20,
           8.280535584683001e-20,
           3.914366570392264e-20,
           8.011396992674621e-20,
           2.8711154437637853e-19,
           2.4088780917700306e-20,
           1.2644684107552788e-18,
           8.847595441280172e-19,
           5.072974566883008e-19,
           1.0967585884943228e-18,
           1.801778485666541e-19,
           4.052043368942496e-20,
           8.125453629340174e-20,
           1.1466723071545437e-19,
           1.447965331983576e-19,
           2.0403595683072093e-19,
           1.14173839988783e-19,
           1.1596544081995253e-19,
           2.5192941476615033e-19,
           7.324997937513069e-20,
           2.6582867394680065e-19,
           1.0647462010533382e-18,
           1.5807528999843448e-18,
           4.842244092667529e-19,
           3.8552871982915053e-19,
           2.129802743816448e-20,
           3.1458533805643034e-20,
           4.3090762756603904e-20,
           5.567273306942742e-20,
           6.789103756283073e-20,
           7.962743658862292e-20,
           9.139865015848088e-20,
           1.0042295150999069e-19,
           1.0798100838720126e-19,
           1.1473211718450057e-19,
           1.1898627443382415e-19,
           1.2111508615259384e-19,
           1.227718385646513e-19,
           1.224223637522543e-19,
           1.2013817970960219e-19,
           1.166531024517506e-19,
           1.1227402605328055e-19,
           1.0742614650822754e-19,
           1.0161122923267333e-19,
           9.635800833642572e-20,
           9.131263083343982e-20,
           8.347350705006148e-20,
           7.579247315085179e-20,
           7.14277686163855e-20,
           6.518425585590231e-20,
           5.78697420756255e-20,
           5.3435664119749205e-20,
           4.999739842331276e-20,
           4.2612627303431924e-20,
           3.8700256564410696e-20,
           3.489849980538725e-20,
           2.5958343162246014e-20,
           2.0087062017397202e-20,
           1.9797311150658472e-20,
           1.9638328740835378e-20,
           1.6334591053887974e-20,
           1.443189208224813e-20,
           1.3437696391047312e-20,
           1.0795612821427921e-20,
           9.517690390713703e-21
          ],
          "color": "orange",
          "type": "data"
         },
         "mode": "markers",
         "type": "scatter",
         "x": [
          0.408,
          0.6,
          0.61,
          0.635,
          0.82,
          1,
          1.4,
          1.42,
          1.43,
          1.44,
          1.45,
          1.47,
          2,
          2,
          2.3,
          2.5,
          3.8,
          4.08,
          4.75,
          7.5,
          7.5,
          9.4,
          9.4,
          10,
          10.7,
          19,
          20,
          24.8,
          31.5,
          32.5,
          33,
          35,
          37,
          53,
          83.8,
          90,
          90,
          90,
          90,
          90,
          90,
          113.6,
          113.6,
          113.6,
          113.6,
          113.6,
          113.6,
          113.6,
          227.3,
          227.3,
          227.3,
          227.3,
          227.3,
          54.6,
          68.1,
          81.8,
          95.3,
          109.1,
          122.6,
          136.4,
          149.9,
          163.7,
          177.2,
          191,
          204.5,
          218.2,
          231.7,
          245.5,
          259,
          272.8,
          286.3,
          300.1,
          313.6,
          327.4,
          340.9,
          354.7,
          368.1,
          381.9,
          395.4,
          409.2,
          422.7,
          436.5,
          450,
          463.8,
          477.3,
          491.1,
          504.6,
          518.3,
          531.8,
          545.6,
          559.1,
          572.9,
          586.4
         ],
         "y": [
          1.8872193966430687e-22,
          3.3020817798124706e-22,
          4.2130067592976895e-22,
          3.6975239115371963e-22,
          5.536975742808411e-22,
          7.607024093454343e-22,
          1.2504188452647959e-21,
          1.961299756273775e-21,
          1.64335805284706e-21,
          1.570718814828565e-21,
          1.7862246198543768e-21,
          1.4836941842460818e-21,
          3.01360416813374e-21,
          3.0750408447027315e-21,
          4.233944529020644e-21,
          5.089205648234201e-21,
          1.1311866142871173e-20,
          1.740336999017859e-20,
          1.793651352176097e-20,
          4.189260235696123e-20,
          4.2582761954721125e-20,
          7.546821343218605e-20,
          6.70706186757105e-20,
          7.334455487632059e-20,
          8.727588711028756e-20,
          2.6051416122690593e-19,
          1.914986989226986e-19,
          4.2139947075404744e-19,
          6.526913215634753e-19,
          7.93088532404744e-19,
          6.999456303001388e-19,
          6.816834701646565e-19,
          8.84147895953656e-19,
          1.4103634863235319e-18,
          1.9979865351327676e-18,
          2.2448038324381774e-18,
          2.539460106283451e-18,
          2.283617255812888e-18,
          2.519570745205698e-18,
          2.7441810914364115e-18,
          2.760374856188254e-18,
          3.3088211197789945e-18,
          3.423488350494449e-18,
          3.481215170204309e-18,
          3.585766819761934e-18,
          3.452319442872854e-18,
          3.697001545520893e-18,
          3.617875148232392e-18,
          2.896671657551597e-18,
          3.3910171549496314e-18,
          3.341694664134477e-18,
          3.746815687837652e-18,
          3.757250851074109e-18,
          1.5395956973090356e-18,
          1.9117211386179948e-18,
          2.3981950604092754e-18,
          2.9555699046364293e-18,
          3.264703700283374e-18,
          3.541837518211276e-18,
          3.8252600344621754e-18,
          3.860096260284147e-18,
          3.8299418996229235e-18,
          3.832108169288102e-18,
          3.710475586867317e-18,
          3.5362648456268245e-18,
          3.398232470080796e-18,
          3.209892496512975e-18,
          2.976874150946726e-18,
          2.7410479663284656e-18,
          2.5078855930964357e-18,
          2.2915149824748692e-18,
          2.0685769056288653e-18,
          1.887001353692832e-18,
          1.727725840761798e-18,
          1.5040829677407691e-18,
          1.3031198564598516e-18,
          1.1976533996484852e-18,
          1.053486407195483e-18,
          8.939238145303996e-19,
          8.046621934891813e-19,
          7.390927437206695e-19,
          5.981993030355326e-19,
          5.296312087783315e-19,
          4.653545125680064e-19,
          3.171947544964908e-19,
          2.2936927262814443e-19,
          2.2779212644677306e-19,
          2.281520146811529e-19,
          1.8209824400058336e-19,
          1.5736447218920724e-19,
          1.454659410508635e-19,
          1.11687512441086e-19,
          9.653761074795666e-20
         ]
        }
       ],
       "layout": {
        "font": {
         "color": "RebeccaPurple",
         "family": "Courier New, monospace",
         "size": 10
        },
        "legend": {
         "title": {
          "text": "error"
         }
        },
        "template": {
         "data": {
          "bar": [
           {
            "error_x": {
             "color": "#2a3f5f"
            },
            "error_y": {
             "color": "#2a3f5f"
            },
            "marker": {
             "line": {
              "color": "#E5ECF6",
              "width": 0.5
             },
             "pattern": {
              "fillmode": "overlay",
              "size": 10,
              "solidity": 0.2
             }
            },
            "type": "bar"
           }
          ],
          "barpolar": [
           {
            "marker": {
             "line": {
              "color": "#E5ECF6",
              "width": 0.5
             },
             "pattern": {
              "fillmode": "overlay",
              "size": 10,
              "solidity": 0.2
             }
            },
            "type": "barpolar"
           }
          ],
          "carpet": [
           {
            "aaxis": {
             "endlinecolor": "#2a3f5f",
             "gridcolor": "white",
             "linecolor": "white",
             "minorgridcolor": "white",
             "startlinecolor": "#2a3f5f"
            },
            "baxis": {
             "endlinecolor": "#2a3f5f",
             "gridcolor": "white",
             "linecolor": "white",
             "minorgridcolor": "white",
             "startlinecolor": "#2a3f5f"
            },
            "type": "carpet"
           }
          ],
          "choropleth": [
           {
            "colorbar": {
             "outlinewidth": 0,
             "ticks": ""
            },
            "type": "choropleth"
           }
          ],
          "contour": [
           {
            "colorbar": {
             "outlinewidth": 0,
             "ticks": ""
            },
            "colorscale": [
             [
              0,
              "#0d0887"
             ],
             [
              0.1111111111111111,
              "#46039f"
             ],
             [
              0.2222222222222222,
              "#7201a8"
             ],
             [
              0.3333333333333333,
              "#9c179e"
             ],
             [
              0.4444444444444444,
              "#bd3786"
             ],
             [
              0.5555555555555556,
              "#d8576b"
             ],
             [
              0.6666666666666666,
              "#ed7953"
             ],
             [
              0.7777777777777778,
              "#fb9f3a"
             ],
             [
              0.8888888888888888,
              "#fdca26"
             ],
             [
              1,
              "#f0f921"
             ]
            ],
            "type": "contour"
           }
          ],
          "contourcarpet": [
           {
            "colorbar": {
             "outlinewidth": 0,
             "ticks": ""
            },
            "type": "contourcarpet"
           }
          ],
          "heatmap": [
           {
            "colorbar": {
             "outlinewidth": 0,
             "ticks": ""
            },
            "colorscale": [
             [
              0,
              "#0d0887"
             ],
             [
              0.1111111111111111,
              "#46039f"
             ],
             [
              0.2222222222222222,
              "#7201a8"
             ],
             [
              0.3333333333333333,
              "#9c179e"
             ],
             [
              0.4444444444444444,
              "#bd3786"
             ],
             [
              0.5555555555555556,
              "#d8576b"
             ],
             [
              0.6666666666666666,
              "#ed7953"
             ],
             [
              0.7777777777777778,
              "#fb9f3a"
             ],
             [
              0.8888888888888888,
              "#fdca26"
             ],
             [
              1,
              "#f0f921"
             ]
            ],
            "type": "heatmap"
           }
          ],
          "heatmapgl": [
           {
            "colorbar": {
             "outlinewidth": 0,
             "ticks": ""
            },
            "colorscale": [
             [
              0,
              "#0d0887"
             ],
             [
              0.1111111111111111,
              "#46039f"
             ],
             [
              0.2222222222222222,
              "#7201a8"
             ],
             [
              0.3333333333333333,
              "#9c179e"
             ],
             [
              0.4444444444444444,
              "#bd3786"
             ],
             [
              0.5555555555555556,
              "#d8576b"
             ],
             [
              0.6666666666666666,
              "#ed7953"
             ],
             [
              0.7777777777777778,
              "#fb9f3a"
             ],
             [
              0.8888888888888888,
              "#fdca26"
             ],
             [
              1,
              "#f0f921"
             ]
            ],
            "type": "heatmapgl"
           }
          ],
          "histogram": [
           {
            "marker": {
             "pattern": {
              "fillmode": "overlay",
              "size": 10,
              "solidity": 0.2
             }
            },
            "type": "histogram"
           }
          ],
          "histogram2d": [
           {
            "colorbar": {
             "outlinewidth": 0,
             "ticks": ""
            },
            "colorscale": [
             [
              0,
              "#0d0887"
             ],
             [
              0.1111111111111111,
              "#46039f"
             ],
             [
              0.2222222222222222,
              "#7201a8"
             ],
             [
              0.3333333333333333,
              "#9c179e"
             ],
             [
              0.4444444444444444,
              "#bd3786"
             ],
             [
              0.5555555555555556,
              "#d8576b"
             ],
             [
              0.6666666666666666,
              "#ed7953"
             ],
             [
              0.7777777777777778,
              "#fb9f3a"
             ],
             [
              0.8888888888888888,
              "#fdca26"
             ],
             [
              1,
              "#f0f921"
             ]
            ],
            "type": "histogram2d"
           }
          ],
          "histogram2dcontour": [
           {
            "colorbar": {
             "outlinewidth": 0,
             "ticks": ""
            },
            "colorscale": [
             [
              0,
              "#0d0887"
             ],
             [
              0.1111111111111111,
              "#46039f"
             ],
             [
              0.2222222222222222,
              "#7201a8"
             ],
             [
              0.3333333333333333,
              "#9c179e"
             ],
             [
              0.4444444444444444,
              "#bd3786"
             ],
             [
              0.5555555555555556,
              "#d8576b"
             ],
             [
              0.6666666666666666,
              "#ed7953"
             ],
             [
              0.7777777777777778,
              "#fb9f3a"
             ],
             [
              0.8888888888888888,
              "#fdca26"
             ],
             [
              1,
              "#f0f921"
             ]
            ],
            "type": "histogram2dcontour"
           }
          ],
          "mesh3d": [
           {
            "colorbar": {
             "outlinewidth": 0,
             "ticks": ""
            },
            "type": "mesh3d"
           }
          ],
          "parcoords": [
           {
            "line": {
             "colorbar": {
              "outlinewidth": 0,
              "ticks": ""
             }
            },
            "type": "parcoords"
           }
          ],
          "pie": [
           {
            "automargin": true,
            "type": "pie"
           }
          ],
          "scatter": [
           {
            "fillpattern": {
             "fillmode": "overlay",
             "size": 10,
             "solidity": 0.2
            },
            "type": "scatter"
           }
          ],
          "scatter3d": [
           {
            "line": {
             "colorbar": {
              "outlinewidth": 0,
              "ticks": ""
             }
            },
            "marker": {
             "colorbar": {
              "outlinewidth": 0,
              "ticks": ""
             }
            },
            "type": "scatter3d"
           }
          ],
          "scattercarpet": [
           {
            "marker": {
             "colorbar": {
              "outlinewidth": 0,
              "ticks": ""
             }
            },
            "type": "scattercarpet"
           }
          ],
          "scattergeo": [
           {
            "marker": {
             "colorbar": {
              "outlinewidth": 0,
              "ticks": ""
             }
            },
            "type": "scattergeo"
           }
          ],
          "scattergl": [
           {
            "marker": {
             "colorbar": {
              "outlinewidth": 0,
              "ticks": ""
             }
            },
            "type": "scattergl"
           }
          ],
          "scattermapbox": [
           {
            "marker": {
             "colorbar": {
              "outlinewidth": 0,
              "ticks": ""
             }
            },
            "type": "scattermapbox"
           }
          ],
          "scatterpolar": [
           {
            "marker": {
             "colorbar": {
              "outlinewidth": 0,
              "ticks": ""
             }
            },
            "type": "scatterpolar"
           }
          ],
          "scatterpolargl": [
           {
            "marker": {
             "colorbar": {
              "outlinewidth": 0,
              "ticks": ""
             }
            },
            "type": "scatterpolargl"
           }
          ],
          "scatterternary": [
           {
            "marker": {
             "colorbar": {
              "outlinewidth": 0,
              "ticks": ""
             }
            },
            "type": "scatterternary"
           }
          ],
          "surface": [
           {
            "colorbar": {
             "outlinewidth": 0,
             "ticks": ""
            },
            "colorscale": [
             [
              0,
              "#0d0887"
             ],
             [
              0.1111111111111111,
              "#46039f"
             ],
             [
              0.2222222222222222,
              "#7201a8"
             ],
             [
              0.3333333333333333,
              "#9c179e"
             ],
             [
              0.4444444444444444,
              "#bd3786"
             ],
             [
              0.5555555555555556,
              "#d8576b"
             ],
             [
              0.6666666666666666,
              "#ed7953"
             ],
             [
              0.7777777777777778,
              "#fb9f3a"
             ],
             [
              0.8888888888888888,
              "#fdca26"
             ],
             [
              1,
              "#f0f921"
             ]
            ],
            "type": "surface"
           }
          ],
          "table": [
           {
            "cells": {
             "fill": {
              "color": "#EBF0F8"
             },
             "line": {
              "color": "white"
             }
            },
            "header": {
             "fill": {
              "color": "#C8D4E3"
             },
             "line": {
              "color": "white"
             }
            },
            "type": "table"
           }
          ]
         },
         "layout": {
          "annotationdefaults": {
           "arrowcolor": "#2a3f5f",
           "arrowhead": 0,
           "arrowwidth": 1
          },
          "autotypenumbers": "strict",
          "coloraxis": {
           "colorbar": {
            "outlinewidth": 0,
            "ticks": ""
           }
          },
          "colorscale": {
           "diverging": [
            [
             0,
             "#8e0152"
            ],
            [
             0.1,
             "#c51b7d"
            ],
            [
             0.2,
             "#de77ae"
            ],
            [
             0.3,
             "#f1b6da"
            ],
            [
             0.4,
             "#fde0ef"
            ],
            [
             0.5,
             "#f7f7f7"
            ],
            [
             0.6,
             "#e6f5d0"
            ],
            [
             0.7,
             "#b8e186"
            ],
            [
             0.8,
             "#7fbc41"
            ],
            [
             0.9,
             "#4d9221"
            ],
            [
             1,
             "#276419"
            ]
           ],
           "sequential": [
            [
             0,
             "#0d0887"
            ],
            [
             0.1111111111111111,
             "#46039f"
            ],
            [
             0.2222222222222222,
             "#7201a8"
            ],
            [
             0.3333333333333333,
             "#9c179e"
            ],
            [
             0.4444444444444444,
             "#bd3786"
            ],
            [
             0.5555555555555556,
             "#d8576b"
            ],
            [
             0.6666666666666666,
             "#ed7953"
            ],
            [
             0.7777777777777778,
             "#fb9f3a"
            ],
            [
             0.8888888888888888,
             "#fdca26"
            ],
            [
             1,
             "#f0f921"
            ]
           ],
           "sequentialminus": [
            [
             0,
             "#0d0887"
            ],
            [
             0.1111111111111111,
             "#46039f"
            ],
            [
             0.2222222222222222,
             "#7201a8"
            ],
            [
             0.3333333333333333,
             "#9c179e"
            ],
            [
             0.4444444444444444,
             "#bd3786"
            ],
            [
             0.5555555555555556,
             "#d8576b"
            ],
            [
             0.6666666666666666,
             "#ed7953"
            ],
            [
             0.7777777777777778,
             "#fb9f3a"
            ],
            [
             0.8888888888888888,
             "#fdca26"
            ],
            [
             1,
             "#f0f921"
            ]
           ]
          },
          "colorway": [
           "#636efa",
           "#EF553B",
           "#00cc96",
           "#ab63fa",
           "#FFA15A",
           "#19d3f3",
           "#FF6692",
           "#B6E880",
           "#FF97FF",
           "#FECB52"
          ],
          "font": {
           "color": "#2a3f5f"
          },
          "geo": {
           "bgcolor": "white",
           "lakecolor": "white",
           "landcolor": "#E5ECF6",
           "showlakes": true,
           "showland": true,
           "subunitcolor": "white"
          },
          "hoverlabel": {
           "align": "left"
          },
          "hovermode": "closest",
          "mapbox": {
           "style": "light"
          },
          "paper_bgcolor": "white",
          "plot_bgcolor": "#E5ECF6",
          "polar": {
           "angularaxis": {
            "gridcolor": "white",
            "linecolor": "white",
            "ticks": ""
           },
           "bgcolor": "#E5ECF6",
           "radialaxis": {
            "gridcolor": "white",
            "linecolor": "white",
            "ticks": ""
           }
          },
          "scene": {
           "xaxis": {
            "backgroundcolor": "#E5ECF6",
            "gridcolor": "white",
            "gridwidth": 2,
            "linecolor": "white",
            "showbackground": true,
            "ticks": "",
            "zerolinecolor": "white"
           },
           "yaxis": {
            "backgroundcolor": "#E5ECF6",
            "gridcolor": "white",
            "gridwidth": 2,
            "linecolor": "white",
            "showbackground": true,
            "ticks": "",
            "zerolinecolor": "white"
           },
           "zaxis": {
            "backgroundcolor": "#E5ECF6",
            "gridcolor": "white",
            "gridwidth": 2,
            "linecolor": "white",
            "showbackground": true,
            "ticks": "",
            "zerolinecolor": "white"
           }
          },
          "shapedefaults": {
           "line": {
            "color": "#2a3f5f"
           }
          },
          "ternary": {
           "aaxis": {
            "gridcolor": "white",
            "linecolor": "white",
            "ticks": ""
           },
           "baxis": {
            "gridcolor": "white",
            "linecolor": "white",
            "ticks": ""
           },
           "bgcolor": "#E5ECF6",
           "caxis": {
            "gridcolor": "white",
            "linecolor": "white",
            "ticks": ""
           }
          },
          "title": {
           "x": 0.05
          },
          "xaxis": {
           "automargin": true,
           "gridcolor": "white",
           "linecolor": "white",
           "ticks": "",
           "title": {
            "standoff": 15
           },
           "zerolinecolor": "white",
           "zerolinewidth": 2
          },
          "yaxis": {
           "automargin": true,
           "gridcolor": "white",
           "linecolor": "white",
           "ticks": "",
           "title": {
            "standoff": 15
           },
           "zerolinecolor": "white",
           "zerolinewidth": 2
          }
         }
        },
        "title": {
         "text": "Intensity vrs. Frequency: Spectral Density of Blackbody"
        },
        "xaxis": {
         "tickmode": "array",
         "tickvals": [
          0.1,
          1,
          10,
          100,
          1000
         ],
         "title": {
          "text": "Frequency (Ghz)"
         },
         "type": "log"
        },
        "yaxis": {
         "tickmode": "array",
         "tickvals": [
          1e-22,
          1e-21,
          1e-20,
          1e-19,
          1e-18
         ],
         "title": {
          "text": "Intensity (W/m^2/sr/Hz)"
         },
         "type": "log"
        }
       }
      },
      "text/html": [
       "<div>                            <div id=\"f5d9b051-a709-4fe8-be37-c5b41bf46047\" class=\"plotly-graph-div\" style=\"height:525px; width:100%;\"></div>            <script type=\"text/javascript\">                require([\"plotly\"], function(Plotly) {                    window.PLOTLYENV=window.PLOTLYENV || {};                                    if (document.getElementById(\"f5d9b051-a709-4fe8-be37-c5b41bf46047\")) {                    Plotly.newPlot(                        \"f5d9b051-a709-4fe8-be37-c5b41bf46047\",                        [{\"error_y\":{\"array\":[6.13692517547149e-23,1.327184761247379e-22,1.3717950346208788e-22,6.193901221624085e-23,3.3051629897352035e-22,9.216358670989742e-23,2.288013550643663e-22,6.194613346657685e-22,2.0730723105099006e-22,1.9110478761943663e-22,3.8754208058564405e-22,1.26126410224579e-22,3.6862402309349244e-22,1.7202415765882286e-22,1.1375078326067102e-21,4.0316562551035114e-22,2.660722628998358e-22,5.113075987395461e-21,4.849353253375096e-22,1.207800635403375e-21,1.0352996895138075e-21,1.3551094442300917e-20,5.688281133539365e-21,1.7770116892536704e-21,4.909892529038938e-22,1.869562176735785e-20,4.837659491336216e-20,1.6570609445926653e-20,2.0850392216519457e-20,8.280535584683001e-20,3.914366570392264e-20,8.011396992674621e-20,2.8711154437637853e-19,2.4088780917700306e-20,1.2644684107552788e-18,8.847595441280172e-19,5.072974566883008e-19,1.0967585884943228e-18,1.801778485666541e-19,4.052043368942496e-20,8.125453629340174e-20,1.1466723071545437e-19,1.447965331983576e-19,2.0403595683072093e-19,1.14173839988783e-19,1.1596544081995253e-19,2.5192941476615033e-19,7.324997937513069e-20,2.6582867394680065e-19,1.0647462010533382e-18,1.5807528999843448e-18,4.842244092667529e-19,3.8552871982915053e-19,2.129802743816448e-20,3.1458533805643034e-20,4.3090762756603904e-20,5.567273306942742e-20,6.789103756283073e-20,7.962743658862292e-20,9.139865015848088e-20,1.0042295150999069e-19,1.0798100838720126e-19,1.1473211718450057e-19,1.1898627443382415e-19,1.2111508615259384e-19,1.227718385646513e-19,1.224223637522543e-19,1.2013817970960219e-19,1.166531024517506e-19,1.1227402605328055e-19,1.0742614650822754e-19,1.0161122923267333e-19,9.635800833642572e-20,9.131263083343982e-20,8.347350705006148e-20,7.579247315085179e-20,7.14277686163855e-20,6.518425585590231e-20,5.78697420756255e-20,5.3435664119749205e-20,4.999739842331276e-20,4.2612627303431924e-20,3.8700256564410696e-20,3.489849980538725e-20,2.5958343162246014e-20,2.0087062017397202e-20,1.9797311150658472e-20,1.9638328740835378e-20,1.6334591053887974e-20,1.443189208224813e-20,1.3437696391047312e-20,1.0795612821427921e-20,9.517690390713703e-21],\"color\":\"orange\",\"type\":\"data\"},\"mode\":\"markers\",\"x\":[0.408,0.6,0.61,0.635,0.82,1.0,1.4,1.42,1.43,1.44,1.45,1.47,2.0,2.0,2.3,2.5,3.8,4.08,4.75,7.5,7.5,9.4,9.4,10.0,10.7,19.0,20.0,24.8,31.5,32.5,33.0,35.0,37.0,53.0,83.8,90.0,90.0,90.0,90.0,90.0,90.0,113.6,113.6,113.6,113.6,113.6,113.6,113.6,227.3,227.3,227.3,227.3,227.3,54.6,68.1,81.8,95.3,109.1,122.6,136.4,149.9,163.7,177.2,191.0,204.5,218.2,231.7,245.5,259.0,272.8,286.3,300.1,313.6,327.4,340.9,354.7,368.1,381.9,395.4,409.2,422.7,436.5,450.0,463.8,477.3,491.1,504.6,518.3,531.8,545.6,559.1,572.9,586.4],\"y\":[1.8872193966430687e-22,3.3020817798124706e-22,4.2130067592976895e-22,3.6975239115371963e-22,5.536975742808411e-22,7.607024093454343e-22,1.2504188452647959e-21,1.961299756273775e-21,1.64335805284706e-21,1.570718814828565e-21,1.7862246198543768e-21,1.4836941842460818e-21,3.01360416813374e-21,3.0750408447027315e-21,4.233944529020644e-21,5.089205648234201e-21,1.1311866142871173e-20,1.740336999017859e-20,1.793651352176097e-20,4.189260235696123e-20,4.2582761954721125e-20,7.546821343218605e-20,6.70706186757105e-20,7.334455487632059e-20,8.727588711028756e-20,2.6051416122690593e-19,1.914986989226986e-19,4.2139947075404744e-19,6.526913215634753e-19,7.93088532404744e-19,6.999456303001388e-19,6.816834701646565e-19,8.84147895953656e-19,1.4103634863235319e-18,1.9979865351327676e-18,2.2448038324381774e-18,2.539460106283451e-18,2.283617255812888e-18,2.519570745205698e-18,2.7441810914364115e-18,2.760374856188254e-18,3.3088211197789945e-18,3.423488350494449e-18,3.481215170204309e-18,3.585766819761934e-18,3.452319442872854e-18,3.697001545520893e-18,3.617875148232392e-18,2.896671657551597e-18,3.3910171549496314e-18,3.341694664134477e-18,3.746815687837652e-18,3.757250851074109e-18,1.5395956973090356e-18,1.9117211386179948e-18,2.3981950604092754e-18,2.9555699046364293e-18,3.264703700283374e-18,3.541837518211276e-18,3.8252600344621754e-18,3.860096260284147e-18,3.8299418996229235e-18,3.832108169288102e-18,3.710475586867317e-18,3.5362648456268245e-18,3.398232470080796e-18,3.209892496512975e-18,2.976874150946726e-18,2.7410479663284656e-18,2.5078855930964357e-18,2.2915149824748692e-18,2.0685769056288653e-18,1.887001353692832e-18,1.727725840761798e-18,1.5040829677407691e-18,1.3031198564598516e-18,1.1976533996484852e-18,1.053486407195483e-18,8.939238145303996e-19,8.046621934891813e-19,7.390927437206695e-19,5.981993030355326e-19,5.296312087783315e-19,4.653545125680064e-19,3.171947544964908e-19,2.2936927262814443e-19,2.2779212644677306e-19,2.281520146811529e-19,1.8209824400058336e-19,1.5736447218920724e-19,1.454659410508635e-19,1.11687512441086e-19,9.653761074795666e-20],\"type\":\"scatter\"}],                        {\"template\":{\"data\":{\"histogram2dcontour\":[{\"type\":\"histogram2dcontour\",\"colorbar\":{\"outlinewidth\":0,\"ticks\":\"\"},\"colorscale\":[[0.0,\"#0d0887\"],[0.1111111111111111,\"#46039f\"],[0.2222222222222222,\"#7201a8\"],[0.3333333333333333,\"#9c179e\"],[0.4444444444444444,\"#bd3786\"],[0.5555555555555556,\"#d8576b\"],[0.6666666666666666,\"#ed7953\"],[0.7777777777777778,\"#fb9f3a\"],[0.8888888888888888,\"#fdca26\"],[1.0,\"#f0f921\"]]}],\"choropleth\":[{\"type\":\"choropleth\",\"colorbar\":{\"outlinewidth\":0,\"ticks\":\"\"}}],\"histogram2d\":[{\"type\":\"histogram2d\",\"colorbar\":{\"outlinewidth\":0,\"ticks\":\"\"},\"colorscale\":[[0.0,\"#0d0887\"],[0.1111111111111111,\"#46039f\"],[0.2222222222222222,\"#7201a8\"],[0.3333333333333333,\"#9c179e\"],[0.4444444444444444,\"#bd3786\"],[0.5555555555555556,\"#d8576b\"],[0.6666666666666666,\"#ed7953\"],[0.7777777777777778,\"#fb9f3a\"],[0.8888888888888888,\"#fdca26\"],[1.0,\"#f0f921\"]]}],\"heatmap\":[{\"type\":\"heatmap\",\"colorbar\":{\"outlinewidth\":0,\"ticks\":\"\"},\"colorscale\":[[0.0,\"#0d0887\"],[0.1111111111111111,\"#46039f\"],[0.2222222222222222,\"#7201a8\"],[0.3333333333333333,\"#9c179e\"],[0.4444444444444444,\"#bd3786\"],[0.5555555555555556,\"#d8576b\"],[0.6666666666666666,\"#ed7953\"],[0.7777777777777778,\"#fb9f3a\"],[0.8888888888888888,\"#fdca26\"],[1.0,\"#f0f921\"]]}],\"heatmapgl\":[{\"type\":\"heatmapgl\",\"colorbar\":{\"outlinewidth\":0,\"ticks\":\"\"},\"colorscale\":[[0.0,\"#0d0887\"],[0.1111111111111111,\"#46039f\"],[0.2222222222222222,\"#7201a8\"],[0.3333333333333333,\"#9c179e\"],[0.4444444444444444,\"#bd3786\"],[0.5555555555555556,\"#d8576b\"],[0.6666666666666666,\"#ed7953\"],[0.7777777777777778,\"#fb9f3a\"],[0.8888888888888888,\"#fdca26\"],[1.0,\"#f0f921\"]]}],\"contourcarpet\":[{\"type\":\"contourcarpet\",\"colorbar\":{\"outlinewidth\":0,\"ticks\":\"\"}}],\"contour\":[{\"type\":\"contour\",\"colorbar\":{\"outlinewidth\":0,\"ticks\":\"\"},\"colorscale\":[[0.0,\"#0d0887\"],[0.1111111111111111,\"#46039f\"],[0.2222222222222222,\"#7201a8\"],[0.3333333333333333,\"#9c179e\"],[0.4444444444444444,\"#bd3786\"],[0.5555555555555556,\"#d8576b\"],[0.6666666666666666,\"#ed7953\"],[0.7777777777777778,\"#fb9f3a\"],[0.8888888888888888,\"#fdca26\"],[1.0,\"#f0f921\"]]}],\"surface\":[{\"type\":\"surface\",\"colorbar\":{\"outlinewidth\":0,\"ticks\":\"\"},\"colorscale\":[[0.0,\"#0d0887\"],[0.1111111111111111,\"#46039f\"],[0.2222222222222222,\"#7201a8\"],[0.3333333333333333,\"#9c179e\"],[0.4444444444444444,\"#bd3786\"],[0.5555555555555556,\"#d8576b\"],[0.6666666666666666,\"#ed7953\"],[0.7777777777777778,\"#fb9f3a\"],[0.8888888888888888,\"#fdca26\"],[1.0,\"#f0f921\"]]}],\"mesh3d\":[{\"type\":\"mesh3d\",\"colorbar\":{\"outlinewidth\":0,\"ticks\":\"\"}}],\"scatter\":[{\"fillpattern\":{\"fillmode\":\"overlay\",\"size\":10,\"solidity\":0.2},\"type\":\"scatter\"}],\"parcoords\":[{\"type\":\"parcoords\",\"line\":{\"colorbar\":{\"outlinewidth\":0,\"ticks\":\"\"}}}],\"scatterpolargl\":[{\"type\":\"scatterpolargl\",\"marker\":{\"colorbar\":{\"outlinewidth\":0,\"ticks\":\"\"}}}],\"bar\":[{\"error_x\":{\"color\":\"#2a3f5f\"},\"error_y\":{\"color\":\"#2a3f5f\"},\"marker\":{\"line\":{\"color\":\"#E5ECF6\",\"width\":0.5},\"pattern\":{\"fillmode\":\"overlay\",\"size\":10,\"solidity\":0.2}},\"type\":\"bar\"}],\"scattergeo\":[{\"type\":\"scattergeo\",\"marker\":{\"colorbar\":{\"outlinewidth\":0,\"ticks\":\"\"}}}],\"scatterpolar\":[{\"type\":\"scatterpolar\",\"marker\":{\"colorbar\":{\"outlinewidth\":0,\"ticks\":\"\"}}}],\"histogram\":[{\"marker\":{\"pattern\":{\"fillmode\":\"overlay\",\"size\":10,\"solidity\":0.2}},\"type\":\"histogram\"}],\"scattergl\":[{\"type\":\"scattergl\",\"marker\":{\"colorbar\":{\"outlinewidth\":0,\"ticks\":\"\"}}}],\"scatter3d\":[{\"type\":\"scatter3d\",\"line\":{\"colorbar\":{\"outlinewidth\":0,\"ticks\":\"\"}},\"marker\":{\"colorbar\":{\"outlinewidth\":0,\"ticks\":\"\"}}}],\"scattermapbox\":[{\"type\":\"scattermapbox\",\"marker\":{\"colorbar\":{\"outlinewidth\":0,\"ticks\":\"\"}}}],\"scatterternary\":[{\"type\":\"scatterternary\",\"marker\":{\"colorbar\":{\"outlinewidth\":0,\"ticks\":\"\"}}}],\"scattercarpet\":[{\"type\":\"scattercarpet\",\"marker\":{\"colorbar\":{\"outlinewidth\":0,\"ticks\":\"\"}}}],\"carpet\":[{\"aaxis\":{\"endlinecolor\":\"#2a3f5f\",\"gridcolor\":\"white\",\"linecolor\":\"white\",\"minorgridcolor\":\"white\",\"startlinecolor\":\"#2a3f5f\"},\"baxis\":{\"endlinecolor\":\"#2a3f5f\",\"gridcolor\":\"white\",\"linecolor\":\"white\",\"minorgridcolor\":\"white\",\"startlinecolor\":\"#2a3f5f\"},\"type\":\"carpet\"}],\"table\":[{\"cells\":{\"fill\":{\"color\":\"#EBF0F8\"},\"line\":{\"color\":\"white\"}},\"header\":{\"fill\":{\"color\":\"#C8D4E3\"},\"line\":{\"color\":\"white\"}},\"type\":\"table\"}],\"barpolar\":[{\"marker\":{\"line\":{\"color\":\"#E5ECF6\",\"width\":0.5},\"pattern\":{\"fillmode\":\"overlay\",\"size\":10,\"solidity\":0.2}},\"type\":\"barpolar\"}],\"pie\":[{\"automargin\":true,\"type\":\"pie\"}]},\"layout\":{\"autotypenumbers\":\"strict\",\"colorway\":[\"#636efa\",\"#EF553B\",\"#00cc96\",\"#ab63fa\",\"#FFA15A\",\"#19d3f3\",\"#FF6692\",\"#B6E880\",\"#FF97FF\",\"#FECB52\"],\"font\":{\"color\":\"#2a3f5f\"},\"hovermode\":\"closest\",\"hoverlabel\":{\"align\":\"left\"},\"paper_bgcolor\":\"white\",\"plot_bgcolor\":\"#E5ECF6\",\"polar\":{\"bgcolor\":\"#E5ECF6\",\"angularaxis\":{\"gridcolor\":\"white\",\"linecolor\":\"white\",\"ticks\":\"\"},\"radialaxis\":{\"gridcolor\":\"white\",\"linecolor\":\"white\",\"ticks\":\"\"}},\"ternary\":{\"bgcolor\":\"#E5ECF6\",\"aaxis\":{\"gridcolor\":\"white\",\"linecolor\":\"white\",\"ticks\":\"\"},\"baxis\":{\"gridcolor\":\"white\",\"linecolor\":\"white\",\"ticks\":\"\"},\"caxis\":{\"gridcolor\":\"white\",\"linecolor\":\"white\",\"ticks\":\"\"}},\"coloraxis\":{\"colorbar\":{\"outlinewidth\":0,\"ticks\":\"\"}},\"colorscale\":{\"sequential\":[[0.0,\"#0d0887\"],[0.1111111111111111,\"#46039f\"],[0.2222222222222222,\"#7201a8\"],[0.3333333333333333,\"#9c179e\"],[0.4444444444444444,\"#bd3786\"],[0.5555555555555556,\"#d8576b\"],[0.6666666666666666,\"#ed7953\"],[0.7777777777777778,\"#fb9f3a\"],[0.8888888888888888,\"#fdca26\"],[1.0,\"#f0f921\"]],\"sequentialminus\":[[0.0,\"#0d0887\"],[0.1111111111111111,\"#46039f\"],[0.2222222222222222,\"#7201a8\"],[0.3333333333333333,\"#9c179e\"],[0.4444444444444444,\"#bd3786\"],[0.5555555555555556,\"#d8576b\"],[0.6666666666666666,\"#ed7953\"],[0.7777777777777778,\"#fb9f3a\"],[0.8888888888888888,\"#fdca26\"],[1.0,\"#f0f921\"]],\"diverging\":[[0,\"#8e0152\"],[0.1,\"#c51b7d\"],[0.2,\"#de77ae\"],[0.3,\"#f1b6da\"],[0.4,\"#fde0ef\"],[0.5,\"#f7f7f7\"],[0.6,\"#e6f5d0\"],[0.7,\"#b8e186\"],[0.8,\"#7fbc41\"],[0.9,\"#4d9221\"],[1,\"#276419\"]]},\"xaxis\":{\"gridcolor\":\"white\",\"linecolor\":\"white\",\"ticks\":\"\",\"title\":{\"standoff\":15},\"zerolinecolor\":\"white\",\"automargin\":true,\"zerolinewidth\":2},\"yaxis\":{\"gridcolor\":\"white\",\"linecolor\":\"white\",\"ticks\":\"\",\"title\":{\"standoff\":15},\"zerolinecolor\":\"white\",\"automargin\":true,\"zerolinewidth\":2},\"scene\":{\"xaxis\":{\"backgroundcolor\":\"#E5ECF6\",\"gridcolor\":\"white\",\"linecolor\":\"white\",\"showbackground\":true,\"ticks\":\"\",\"zerolinecolor\":\"white\",\"gridwidth\":2},\"yaxis\":{\"backgroundcolor\":\"#E5ECF6\",\"gridcolor\":\"white\",\"linecolor\":\"white\",\"showbackground\":true,\"ticks\":\"\",\"zerolinecolor\":\"white\",\"gridwidth\":2},\"zaxis\":{\"backgroundcolor\":\"#E5ECF6\",\"gridcolor\":\"white\",\"linecolor\":\"white\",\"showbackground\":true,\"ticks\":\"\",\"zerolinecolor\":\"white\",\"gridwidth\":2}},\"shapedefaults\":{\"line\":{\"color\":\"#2a3f5f\"}},\"annotationdefaults\":{\"arrowcolor\":\"#2a3f5f\",\"arrowhead\":0,\"arrowwidth\":1},\"geo\":{\"bgcolor\":\"white\",\"landcolor\":\"#E5ECF6\",\"subunitcolor\":\"white\",\"showland\":true,\"showlakes\":true,\"lakecolor\":\"white\"},\"title\":{\"x\":0.05},\"mapbox\":{\"style\":\"light\"}}},\"font\":{\"family\":\"Courier New, monospace\",\"size\":10,\"color\":\"RebeccaPurple\"},\"xaxis\":{\"title\":{\"text\":\"Frequency (Ghz)\"},\"tickmode\":\"array\",\"tickvals\":[0.1,1,10,100,1000],\"type\":\"log\"},\"yaxis\":{\"title\":{\"text\":\"Intensity (W/m^2/sr/Hz)\"},\"tickmode\":\"array\",\"tickvals\":[1e-22,1e-21,1e-20,1e-19,1e-18],\"type\":\"log\"},\"title\":{\"text\":\"Intensity vrs. Frequency: Spectral Density of Blackbody\"},\"legend\":{\"title\":{\"text\":\"error\"}}},                        {\"responsive\": true}                    ).then(function(){\n",
       "                            \n",
       "var gd = document.getElementById('f5d9b051-a709-4fe8-be37-c5b41bf46047');\n",
       "var x = new MutationObserver(function (mutations, observer) {{\n",
       "        var display = window.getComputedStyle(gd).display;\n",
       "        if (!display || display === 'none') {{\n",
       "            console.log([gd, 'removed!']);\n",
       "            Plotly.purge(gd);\n",
       "            observer.disconnect();\n",
       "        }}\n",
       "}});\n",
       "\n",
       "// Listen for the removal of the full notebook cells\n",
       "var notebookContainer = gd.closest('#notebook-container');\n",
       "if (notebookContainer) {{\n",
       "    x.observe(notebookContainer, {childList: true});\n",
       "}}\n",
       "\n",
       "// Listen for the clearing of the current output cell\n",
       "var outputEl = gd.closest('.output');\n",
       "if (outputEl) {{\n",
       "    x.observe(outputEl, {childList: true});\n",
       "}}\n",
       "\n",
       "                        })                };                });            </script>        </div>"
      ]
     },
     "metadata": {},
     "output_type": "display_data"
    }
   ],
   "source": [
    "fig = go.Figure(data=go.Scatter(\n",
    "        x=cmb_intensity_data['frequency'],\n",
    "        y=cmb_intensity_data['intensity'],\n",
    "        error_y=dict(\n",
    "            type='data', # value of error bar given in data coordinates\n",
    "            array=cmb_intensity_data['error'],\n",
    "            color='orange')\n",
    "   ,mode='markers' ))\n",
    "\n",
    "\n",
    "fig.update_layout(\n",
    "    title=\"Intensity vrs. Frequency: Spectral Density of Blackbody\",\n",
    "    xaxis_title=\"Frequency (Ghz)\",\n",
    "    yaxis_title=\"Intensity (W/m^2/sr/Hz)\",\n",
    "    legend_title=\"error\",\n",
    "    font=dict(\n",
    "        family=\"Courier New, monospace\",\n",
    "        size=10,\n",
    "        color=\"RebeccaPurple\"\n",
    "    ),\n",
    "      xaxis = dict(\n",
    "        tickmode = 'array',\n",
    "        tickvals = [.1,1,10,100,1000],\n",
    "    ),\n",
    "       yaxis = dict(\n",
    "        tickmode = 'array',\n",
    "        tickvals = [10**-22,10**-21,10**-20,10**-19,10**-18],\n",
    "    )\n",
    ")\n",
    "\n",
    "\n",
    "fig.update_xaxes(type=\"log\")\n",
    "fig.update_yaxes(type=\"log\")\n",
    "\n",
    "\n",
    "fig.show()"
   ]
  },
  {
   "cell_type": "markdown",
   "id": "c75336bf",
   "metadata": {},
   "source": [
    "______________________________________________________________\n",
    "Part 3a) (3 pts)\n",
    "\n",
    "fit the data above to Plank's law to get the best fit temperature\n",
    "- print the best fit temperature\n",
    "- print the estimated 1-$\\sigma$ error returned by curve_fit\n",
    "_____________________________________________________________"
   ]
  },
  {
   "cell_type": "code",
   "execution_count": 484,
   "id": "2b1ce1d1",
   "metadata": {
    "ExecuteTime": {
     "end_time": "2023-02-12T15:56:00.989247Z",
     "start_time": "2023-02-12T15:56:00.984219Z"
    }
   },
   "outputs": [
    {
     "name": "stdout",
     "output_type": "stream",
     "text": [
      "Temperature of the CMB is predicted to be 2.730274091364109\n",
      "The 1-sigma error is 0.0035775644043095317\n"
     ]
    }
   ],
   "source": [
    "# predicting the cmb temperature \n",
    "T0 = 1.0\n",
    "poptT, pcovT=curve_fit(f=planck_radiation_law,\n",
    "                        xdata=cmb_intensity_data['frequency']*1e9, ## convert from Ghz to Hz\n",
    "                        ydata=cmb_intensity_data['intensity'],\n",
    "                        p0=T0,\n",
    "                        sigma=cmb_intensity_data['error'],\n",
    "                        absolute_sigma=True)\n",
    "\n",
    "sigma=np.sqrt(np.diag(pcovT))[0]\n",
    "      \n",
    "print(f\"Temperature of the CMB is predicted to be {poptT[0]}\")\n",
    "print(f\"The 1-sigma error is {np.sqrt(np.diag(pcovT))[0]}\")"
   ]
  },
  {
   "cell_type": "markdown",
   "id": "a39b571c",
   "metadata": {},
   "source": [
    "____________________________________________________________________\n",
    "Part 3b) (2 pts)\n",
    "\n",
    "Calculate and print the $\\chi^2$, reduced-$\\chi^2$, and $\\chi^2$ probability\n",
    "\n",
    "______________________________________________________________"
   ]
  },
  {
   "cell_type": "code",
   "execution_count": 485,
   "id": "9f28f669",
   "metadata": {
    "ExecuteTime": {
     "end_time": "2023-02-12T15:56:01.018237Z",
     "start_time": "2023-02-12T15:56:01.013218Z"
    }
   },
   "outputs": [
    {
     "name": "stdout",
     "output_type": "stream",
     "text": [
      "chi-squared is: 117.35973877285812\n",
      "dof is: 92\n",
      "χ-mu is: 1.2756493344875883\n",
      "prob is: 0.03843571979110752\n"
     ]
    }
   ],
   "source": [
    "chi2=chi_squared(planck_radiation_law(cmb_intensity_data['frequency']*1e9,*poptT),cmb_intensity_data['intensity'],cmb_intensity_data['error'])\n",
    "dof = np.size(cmb_intensity_data['intensity'])-1  #degrees of freedom = data points - #parameters (here 1)\n",
    "prob = st.chi2.sf(chi2,dof) #chi-squared probability from scipy function\n",
    "\n",
    "print(f\"chi-squared is: {chi2}\")\n",
    "print(f\"dof is: {dof}\")\n",
    "print(f\"χ-mu is: {chi2/dof}\")\n",
    "print(f\"prob is: {prob}\")"
   ]
  },
  {
   "cell_type": "markdown",
   "id": "2a917cf3",
   "metadata": {},
   "source": [
    "_________________________________________________________________________\n",
    "Observations:\n",
    "\n",
    "The best-fit temperature acheived from curve-fit gives a reduced chis-square of around 1.3, indicating that our theory plus the best fit parameter track the data quite well. The low probability suggest that errors owing to chance are less than 4%.\n",
    "\n",
    "Empirically, our best fit determines a temperature of around 2.7K which is in fact the approximate value for the average temperature cosmic microwave background radiation. \n",
    "_______________________________________________________________________"
   ]
  },
  {
   "cell_type": "markdown",
   "id": "2203e06d",
   "metadata": {},
   "source": [
    "Part 4) (5 pts)\n",
    "\n",
    "Make a single figure with two subplots\n",
    "- top: data with errorbars and best fit curve vs frequency (same parameters as plot above)\n",
    "- bottom: fractional residuals (i.e residual/Radiance = (data-Fit)/fit) with errorbar (only log on x-scale)\n",
    "\n",
    "\n",
    "_________________________________________________________________________"
   ]
  },
  {
   "cell_type": "code",
   "execution_count": 486,
   "id": "bdb724ce",
   "metadata": {
    "ExecuteTime": {
     "end_time": "2023-02-12T15:56:01.107298Z",
     "start_time": "2023-02-12T15:56:01.070468Z"
    }
   },
   "outputs": [
    {
     "data": {
      "application/vnd.plotly.v1+json": {
       "config": {
        "plotlyServerURL": "https://plot.ly"
       },
       "data": [
        {
         "error_y": {
          "array": [
           6.13692517547149e-23,
           1.327184761247379e-22,
           1.3717950346208788e-22,
           6.193901221624085e-23,
           3.3051629897352035e-22,
           9.216358670989742e-23,
           2.288013550643663e-22,
           6.194613346657685e-22,
           2.0730723105099006e-22,
           1.9110478761943663e-22,
           3.8754208058564405e-22,
           1.26126410224579e-22,
           3.6862402309349244e-22,
           1.7202415765882286e-22,
           1.1375078326067102e-21,
           4.0316562551035114e-22,
           2.660722628998358e-22,
           5.113075987395461e-21,
           4.849353253375096e-22,
           1.207800635403375e-21,
           1.0352996895138075e-21,
           1.3551094442300917e-20,
           5.688281133539365e-21,
           1.7770116892536704e-21,
           4.909892529038938e-22,
           1.869562176735785e-20,
           4.837659491336216e-20,
           1.6570609445926653e-20,
           2.0850392216519457e-20,
           8.280535584683001e-20,
           3.914366570392264e-20,
           8.011396992674621e-20,
           2.8711154437637853e-19,
           2.4088780917700306e-20,
           1.2644684107552788e-18,
           8.847595441280172e-19,
           5.072974566883008e-19,
           1.0967585884943228e-18,
           1.801778485666541e-19,
           4.052043368942496e-20,
           8.125453629340174e-20,
           1.1466723071545437e-19,
           1.447965331983576e-19,
           2.0403595683072093e-19,
           1.14173839988783e-19,
           1.1596544081995253e-19,
           2.5192941476615033e-19,
           7.324997937513069e-20,
           2.6582867394680065e-19,
           1.0647462010533382e-18,
           1.5807528999843448e-18,
           4.842244092667529e-19,
           3.8552871982915053e-19,
           2.129802743816448e-20,
           3.1458533805643034e-20,
           4.3090762756603904e-20,
           5.567273306942742e-20,
           6.789103756283073e-20,
           7.962743658862292e-20,
           9.139865015848088e-20,
           1.0042295150999069e-19,
           1.0798100838720126e-19,
           1.1473211718450057e-19,
           1.1898627443382415e-19,
           1.2111508615259384e-19,
           1.227718385646513e-19,
           1.224223637522543e-19,
           1.2013817970960219e-19,
           1.166531024517506e-19,
           1.1227402605328055e-19,
           1.0742614650822754e-19,
           1.0161122923267333e-19,
           9.635800833642572e-20,
           9.131263083343982e-20,
           8.347350705006148e-20,
           7.579247315085179e-20,
           7.14277686163855e-20,
           6.518425585590231e-20,
           5.78697420756255e-20,
           5.3435664119749205e-20,
           4.999739842331276e-20,
           4.2612627303431924e-20,
           3.8700256564410696e-20,
           3.489849980538725e-20,
           2.5958343162246014e-20,
           2.0087062017397202e-20,
           1.9797311150658472e-20,
           1.9638328740835378e-20,
           1.6334591053887974e-20,
           1.443189208224813e-20,
           1.3437696391047312e-20,
           1.0795612821427921e-20,
           9.517690390713703e-21
          ],
          "color": "orange",
          "type": "data"
         },
         "mode": "markers",
         "name": "Frequency",
         "type": "scatter",
         "x": [
          0.408,
          0.6,
          0.61,
          0.635,
          0.82,
          1,
          1.4,
          1.42,
          1.43,
          1.44,
          1.45,
          1.47,
          2,
          2,
          2.3,
          2.5,
          3.8,
          4.08,
          4.75,
          7.5,
          7.5,
          9.4,
          9.4,
          10,
          10.7,
          19,
          20,
          24.8,
          31.5,
          32.5,
          33,
          35,
          37,
          53,
          83.8,
          90,
          90,
          90,
          90,
          90,
          90,
          113.6,
          113.6,
          113.6,
          113.6,
          113.6,
          113.6,
          113.6,
          227.3,
          227.3,
          227.3,
          227.3,
          227.3,
          54.6,
          68.1,
          81.8,
          95.3,
          109.1,
          122.6,
          136.4,
          149.9,
          163.7,
          177.2,
          191,
          204.5,
          218.2,
          231.7,
          245.5,
          259,
          272.8,
          286.3,
          300.1,
          313.6,
          327.4,
          340.9,
          354.7,
          368.1,
          381.9,
          395.4,
          409.2,
          422.7,
          436.5,
          450,
          463.8,
          477.3,
          491.1,
          504.6,
          518.3,
          531.8,
          545.6,
          559.1,
          572.9,
          586.4
         ],
         "xaxis": "x",
         "y": [
          1.8872193966430687e-22,
          3.3020817798124706e-22,
          4.2130067592976895e-22,
          3.6975239115371963e-22,
          5.536975742808411e-22,
          7.607024093454343e-22,
          1.2504188452647959e-21,
          1.961299756273775e-21,
          1.64335805284706e-21,
          1.570718814828565e-21,
          1.7862246198543768e-21,
          1.4836941842460818e-21,
          3.01360416813374e-21,
          3.0750408447027315e-21,
          4.233944529020644e-21,
          5.089205648234201e-21,
          1.1311866142871173e-20,
          1.740336999017859e-20,
          1.793651352176097e-20,
          4.189260235696123e-20,
          4.2582761954721125e-20,
          7.546821343218605e-20,
          6.70706186757105e-20,
          7.334455487632059e-20,
          8.727588711028756e-20,
          2.6051416122690593e-19,
          1.914986989226986e-19,
          4.2139947075404744e-19,
          6.526913215634753e-19,
          7.93088532404744e-19,
          6.999456303001388e-19,
          6.816834701646565e-19,
          8.84147895953656e-19,
          1.4103634863235319e-18,
          1.9979865351327676e-18,
          2.2448038324381774e-18,
          2.539460106283451e-18,
          2.283617255812888e-18,
          2.519570745205698e-18,
          2.7441810914364115e-18,
          2.760374856188254e-18,
          3.3088211197789945e-18,
          3.423488350494449e-18,
          3.481215170204309e-18,
          3.585766819761934e-18,
          3.452319442872854e-18,
          3.697001545520893e-18,
          3.617875148232392e-18,
          2.896671657551597e-18,
          3.3910171549496314e-18,
          3.341694664134477e-18,
          3.746815687837652e-18,
          3.757250851074109e-18,
          1.5395956973090356e-18,
          1.9117211386179948e-18,
          2.3981950604092754e-18,
          2.9555699046364293e-18,
          3.264703700283374e-18,
          3.541837518211276e-18,
          3.8252600344621754e-18,
          3.860096260284147e-18,
          3.8299418996229235e-18,
          3.832108169288102e-18,
          3.710475586867317e-18,
          3.5362648456268245e-18,
          3.398232470080796e-18,
          3.209892496512975e-18,
          2.976874150946726e-18,
          2.7410479663284656e-18,
          2.5078855930964357e-18,
          2.2915149824748692e-18,
          2.0685769056288653e-18,
          1.887001353692832e-18,
          1.727725840761798e-18,
          1.5040829677407691e-18,
          1.3031198564598516e-18,
          1.1976533996484852e-18,
          1.053486407195483e-18,
          8.939238145303996e-19,
          8.046621934891813e-19,
          7.390927437206695e-19,
          5.981993030355326e-19,
          5.296312087783315e-19,
          4.653545125680064e-19,
          3.171947544964908e-19,
          2.2936927262814443e-19,
          2.2779212644677306e-19,
          2.281520146811529e-19,
          1.8209824400058336e-19,
          1.5736447218920724e-19,
          1.454659410508635e-19,
          1.11687512441086e-19,
          9.653761074795666e-20
         ],
         "yaxis": "y"
        },
        {
         "name": "Best Fit: Planck Law",
         "type": "scatter",
         "x": [
          0.408,
          0.6,
          0.61,
          0.635,
          0.82,
          1,
          1.4,
          1.42,
          1.43,
          1.44,
          1.45,
          1.47,
          2,
          2,
          2.3,
          2.5,
          3.8,
          4.08,
          4.75,
          7.5,
          7.5,
          9.4,
          9.4,
          10,
          10.7,
          19,
          20,
          24.8,
          31.5,
          32.5,
          33,
          35,
          37,
          53,
          54.6,
          68.1,
          81.8,
          83.8,
          90,
          90,
          90,
          90,
          90,
          90,
          95.3,
          109.1,
          113.6,
          113.6,
          113.6,
          113.6,
          113.6,
          113.6,
          113.6,
          122.6,
          136.4,
          149.9,
          163.7,
          177.2,
          191,
          204.5,
          218.2,
          227.3,
          227.3,
          227.3,
          227.3,
          227.3,
          231.7,
          245.5,
          259,
          272.8,
          286.3,
          300.1,
          313.6,
          327.4,
          340.9,
          354.7,
          368.1,
          381.9,
          395.4,
          409.2,
          422.7,
          436.5,
          450,
          463.8,
          477.3,
          491.1,
          504.6,
          518.3,
          531.8,
          545.6,
          559.1,
          572.9,
          586.4
         ],
         "xaxis": "x",
         "y": [
          1.3887822848427248e-22,
          2.9983481627121615e-22,
          3.098852999224462e-22,
          3.3573229006507704e-22,
          5.589402607600926e-22,
          8.2994341097660685e-22,
          1.6209577050133685e-21,
          1.6673071402745589e-21,
          1.690723734240513e-21,
          1.71430152118112e-21,
          1.738040457666187e-21,
          1.786001605574768e-21,
          3.290583691844906e-21,
          3.290583691844906e-21,
          4.34026033344259e-21,
          5.118833507446886e-21,
          1.1690900993809862e-20,
          1.3443721925053313e-20,
          1.8113181999914186e-20,
          4.405954690680916e-20,
          4.405954690680916e-20,
          6.803587329918432e-20,
          6.803587329918432e-20,
          7.658185835310635e-20,
          8.712429760036021e-20,
          2.5456899068038315e-19,
          2.794613265697699e-19,
          4.1080414508738766e-19,
          6.218199864811399e-19,
          6.555944352236581e-19,
          6.726741981162174e-19,
          7.421964782621352e-19,
          8.134825183467976e-19,
          1.423715746203327e-18,
          1.4866113868220926e-18,
          2.0112231968604285e-18,
          2.5071772878089137e-18,
          2.5747664625832454e-18,
          2.7749224930876332e-18,
          2.7749224930876332e-18,
          2.7749224930876332e-18,
          2.7749224930876332e-18,
          2.7749224930876332e-18,
          2.7749224930876332e-18,
          2.933898640209858e-18,
          3.290158421317662e-18,
          3.387348754881748e-18,
          3.387348754881748e-18,
          3.387348754881748e-18,
          3.387348754881748e-18,
          3.387348754881748e-18,
          3.387348754881748e-18,
          3.387348754881748e-18,
          3.553003649299638e-18,
          3.7332377488499555e-18,
          3.827076657936062e-18,
          3.846351872750433e-18,
          3.7997661046634896e-18,
          3.6961511678237586e-18,
          3.5508275574639965e-18,
          3.369506669811604e-18,
          3.2350936511018682e-18,
          3.2350936511018682e-18,
          3.2350936511018682e-18,
          3.2350936511018682e-18,
          3.2350936511018682e-18,
          3.1670661254269044e-18,
          2.9445640754782953e-18,
          2.7190743103721128e-18,
          2.486932784792583e-18,
          2.2632162280982582e-18,
          2.0419738629475295e-18,
          1.835708061168104e-18,
          1.6373293387016675e-18,
          1.4567473994620298e-18,
          1.2866365157700123e-18,
          1.1356616334813707e-18,
          9.946229714426405e-19,
          8.703664784715976e-19,
          7.566800057216133e-19,
          6.576990877395626e-19,
          5.6810759473878985e-19,
          4.908703039176651e-19,
          4.2158962419878035e-19,
          3.623594473768447e-19,
          3.0963967743560997e-19,
          2.6489038288910225e-19,
          2.255908632818579e-19,
          1.921793512305312e-19,
          1.6280936615396392e-19,
          1.38169591128205e-19,
          1.1662136908740288e-19,
          9.863104425199371e-20
         ],
         "yaxis": "y"
        },
        {
         "error_y": {
          "array": [
           0.4418925300567524,
           0.44263864275417286,
           0.4426783183856068,
           0.18448929116777787,
           0.5913266983560235,
           0.11104803712032263,
           0.14115195871966277,
           0.3715340261565488,
           0.12261449156512502,
           0.11147676488542646,
           0.2229764438890159,
           0.07061942712195335,
           0.11202390141513735,
           0.052277703218779226,
           0.2620828579894115,
           0.07876123044905156,
           0.02275891849915731,
           0.38033187653687534,
           0.0267725088468612,
           0.027412915479090322,
           0.023497737997705274,
           0.19917572576324055,
           0.08360708634583752,
           0.023204081586270235,
           0.0056355031423732695,
           0.07344029497618822,
           0.17310658153368685,
           0.040337006439897766,
           0.033531235196396926,
           0.1263057637433739,
           0.058191121071005936,
           0.10794172739048068,
           0.35294125921705344,
           0.01691965617570692,
           0.49110023341171155,
           0.3188411735217702,
           0.1828150004016275,
           0.39523935937899607,
           0.06493076798198126,
           0.014602365936476376,
           0.029281731830639528,
           0.03385161641540432,
           0.042746272579604054,
           0.060234706136080694,
           0.03370595951309678,
           0.03423486898206939,
           0.07437362757616175,
           0.021624575641809828,
           0.0821703179616639,
           0.3291237645286365,
           0.48862662737628715,
           0.1496786373098741,
           0.11917080660024788,
           0.014326560140032939,
           0.015641493124557544,
           0.017186962791236046,
           0.018975683858473456,
           0.020634580123239578,
           0.022411301661431998,
           0.02448240811521761,
           0.02624012019768339,
           0.02807361675674947,
           0.030194520932140725,
           0.03219193940703501,
           0.0341089743707786,
           0.03643614647348828,
           0.03865481770948259,
           0.040799988259752076,
           0.04290177065289043,
           0.0451455812315589,
           0.0474661436121355,
           0.04976127808315847,
           0.05249092182724897,
           0.055769250983951,
           0.05730129127458052,
           0.0589074476138992,
           0.062895290736752,
           0.06553664828528591,
           0.06648893713972917,
           0.07061857550840121,
           0.07601865253477569,
           0.07500802259653787,
           0.078840085162092,
           0.08277836503142338,
           0.07163699842838647,
           0.06487237741543746,
           0.07473774976174473,
           0.08705285513402572,
           0.08499659796589493,
           0.08864288599097134,
           0.09725509268228726,
           0.09256976578054968,
           0.09649791769817254
          ],
          "color": "orange",
          "type": "data"
         },
         "mode": "markers",
         "name": "Residuals",
         "type": "scatter",
         "x": [
          0.408,
          0.6,
          0.61,
          0.635,
          0.82,
          1,
          1.4,
          1.42,
          1.43,
          1.44,
          1.45,
          1.47,
          2,
          2,
          2.3,
          2.5,
          3.8,
          4.08,
          4.75,
          7.5,
          7.5,
          9.4,
          9.4,
          10,
          10.7,
          19,
          20,
          24.8,
          31.5,
          32.5,
          33,
          35,
          37,
          53,
          83.8,
          90,
          90,
          90,
          90,
          90,
          90,
          113.6,
          113.6,
          113.6,
          113.6,
          113.6,
          113.6,
          113.6,
          227.3,
          227.3,
          227.3,
          227.3,
          227.3,
          54.6,
          68.1,
          81.8,
          95.3,
          109.1,
          122.6,
          136.4,
          149.9,
          163.7,
          177.2,
          191,
          204.5,
          218.2,
          231.7,
          245.5,
          259,
          272.8,
          286.3,
          300.1,
          313.6,
          327.4,
          340.9,
          354.7,
          368.1,
          381.9,
          395.4,
          409.2,
          422.7,
          436.5,
          450,
          463.8,
          477.3,
          491.1,
          504.6,
          518.3,
          531.8,
          545.6,
          559.1,
          572.9,
          586.4
         ],
         "xaxis": "x2",
         "y": [
          0.3589022680086896,
          0.1013003162466517,
          0.35953746768628997,
          0.10133103694627725,
          -0.009379690187502416,
          -0.08342858165437528,
          -0.22859255278688267,
          0.17632780961449238,
          -0.028015033109315125,
          -0.08375580641941525,
          0.027723268451927085,
          -0.16926492136685287,
          -0.08417337155034457,
          -0.06550292207317411,
          -0.024495259789548,
          -0.005788009938120158,
          -0.03242135496138251,
          0.29453510621535534,
          -0.009753585988041975,
          -0.049182179617762806,
          -0.033517933246376794,
          0.10924148941718416,
          -0.014187436372414262,
          -0.04227245912287847,
          0.0017399223190606875,
          0.023353867769335138,
          -0.31475778322089465,
          0.02579167175736726,
          0.04964673981779744,
          0.20972432008850003,
          0.0405418139424603,
          -0.0815323298746591,
          0.08686772734891511,
          -0.009378459088762696,
          -0.22401252145866407,
          -0.19103908738712094,
          -0.08485368055890642,
          -0.17705187748435958,
          -0.09202121807654798,
          -0.011078291998352731,
          -0.005242538101737095,
          -0.023182624756184825,
          0.010668991659219496,
          0.02771088013517465,
          0.05857621379972506,
          0.019180395256754156,
          0.09141449937591534,
          0.0680551103627626,
          -0.10460964350599403,
          0.048197523986564,
          0.03295144577848634,
          0.15817843064960163,
          0.1614040446076097,
          0.035640995997082175,
          -0.049473404243625965,
          -0.043468097740659024,
          0.007386507539681479,
          -0.007736624737994758,
          -0.0031427299801852575,
          0.02464945760300636,
          0.008627891547354747,
          -0.004266373350749896,
          0.00851159353859134,
          0.0038754959938481826,
          -0.004101216294370734,
          0.008525224338196077,
          0.013522411402224191,
          0.01097278736010609,
          0.00808130026918819,
          0.008425160676628445,
          0.012503778483591892,
          0.013028101467927275,
          0.027941966159961543,
          0.055209724716599254,
          0.0324940125489293,
          0.012811186755394199,
          0.054586475706746115,
          0.05918165721375275,
          0.02706599649858961,
          0.0634114650905959,
          0.12375516022205174,
          0.0529683260273587,
          0.0789636377497545,
          0.1038092160175906,
          -0.12464058328630738,
          -0.2592381101551751,
          -0.140051352705623,
          0.011353081246446774,
          -0.052456765856467656,
          -0.03344337057124595,
          0.05280720499410297,
          -0.04230662600624373,
          -0.021224894452993005
         ],
         "yaxis": "y2"
        }
       ],
       "layout": {
        "font": {
         "color": "RebeccaPurple",
         "family": "Courier New, monospace",
         "size": 10
        },
        "height": 800,
        "template": {
         "data": {
          "bar": [
           {
            "error_x": {
             "color": "#2a3f5f"
            },
            "error_y": {
             "color": "#2a3f5f"
            },
            "marker": {
             "line": {
              "color": "#E5ECF6",
              "width": 0.5
             },
             "pattern": {
              "fillmode": "overlay",
              "size": 10,
              "solidity": 0.2
             }
            },
            "type": "bar"
           }
          ],
          "barpolar": [
           {
            "marker": {
             "line": {
              "color": "#E5ECF6",
              "width": 0.5
             },
             "pattern": {
              "fillmode": "overlay",
              "size": 10,
              "solidity": 0.2
             }
            },
            "type": "barpolar"
           }
          ],
          "carpet": [
           {
            "aaxis": {
             "endlinecolor": "#2a3f5f",
             "gridcolor": "white",
             "linecolor": "white",
             "minorgridcolor": "white",
             "startlinecolor": "#2a3f5f"
            },
            "baxis": {
             "endlinecolor": "#2a3f5f",
             "gridcolor": "white",
             "linecolor": "white",
             "minorgridcolor": "white",
             "startlinecolor": "#2a3f5f"
            },
            "type": "carpet"
           }
          ],
          "choropleth": [
           {
            "colorbar": {
             "outlinewidth": 0,
             "ticks": ""
            },
            "type": "choropleth"
           }
          ],
          "contour": [
           {
            "colorbar": {
             "outlinewidth": 0,
             "ticks": ""
            },
            "colorscale": [
             [
              0,
              "#0d0887"
             ],
             [
              0.1111111111111111,
              "#46039f"
             ],
             [
              0.2222222222222222,
              "#7201a8"
             ],
             [
              0.3333333333333333,
              "#9c179e"
             ],
             [
              0.4444444444444444,
              "#bd3786"
             ],
             [
              0.5555555555555556,
              "#d8576b"
             ],
             [
              0.6666666666666666,
              "#ed7953"
             ],
             [
              0.7777777777777778,
              "#fb9f3a"
             ],
             [
              0.8888888888888888,
              "#fdca26"
             ],
             [
              1,
              "#f0f921"
             ]
            ],
            "type": "contour"
           }
          ],
          "contourcarpet": [
           {
            "colorbar": {
             "outlinewidth": 0,
             "ticks": ""
            },
            "type": "contourcarpet"
           }
          ],
          "heatmap": [
           {
            "colorbar": {
             "outlinewidth": 0,
             "ticks": ""
            },
            "colorscale": [
             [
              0,
              "#0d0887"
             ],
             [
              0.1111111111111111,
              "#46039f"
             ],
             [
              0.2222222222222222,
              "#7201a8"
             ],
             [
              0.3333333333333333,
              "#9c179e"
             ],
             [
              0.4444444444444444,
              "#bd3786"
             ],
             [
              0.5555555555555556,
              "#d8576b"
             ],
             [
              0.6666666666666666,
              "#ed7953"
             ],
             [
              0.7777777777777778,
              "#fb9f3a"
             ],
             [
              0.8888888888888888,
              "#fdca26"
             ],
             [
              1,
              "#f0f921"
             ]
            ],
            "type": "heatmap"
           }
          ],
          "heatmapgl": [
           {
            "colorbar": {
             "outlinewidth": 0,
             "ticks": ""
            },
            "colorscale": [
             [
              0,
              "#0d0887"
             ],
             [
              0.1111111111111111,
              "#46039f"
             ],
             [
              0.2222222222222222,
              "#7201a8"
             ],
             [
              0.3333333333333333,
              "#9c179e"
             ],
             [
              0.4444444444444444,
              "#bd3786"
             ],
             [
              0.5555555555555556,
              "#d8576b"
             ],
             [
              0.6666666666666666,
              "#ed7953"
             ],
             [
              0.7777777777777778,
              "#fb9f3a"
             ],
             [
              0.8888888888888888,
              "#fdca26"
             ],
             [
              1,
              "#f0f921"
             ]
            ],
            "type": "heatmapgl"
           }
          ],
          "histogram": [
           {
            "marker": {
             "pattern": {
              "fillmode": "overlay",
              "size": 10,
              "solidity": 0.2
             }
            },
            "type": "histogram"
           }
          ],
          "histogram2d": [
           {
            "colorbar": {
             "outlinewidth": 0,
             "ticks": ""
            },
            "colorscale": [
             [
              0,
              "#0d0887"
             ],
             [
              0.1111111111111111,
              "#46039f"
             ],
             [
              0.2222222222222222,
              "#7201a8"
             ],
             [
              0.3333333333333333,
              "#9c179e"
             ],
             [
              0.4444444444444444,
              "#bd3786"
             ],
             [
              0.5555555555555556,
              "#d8576b"
             ],
             [
              0.6666666666666666,
              "#ed7953"
             ],
             [
              0.7777777777777778,
              "#fb9f3a"
             ],
             [
              0.8888888888888888,
              "#fdca26"
             ],
             [
              1,
              "#f0f921"
             ]
            ],
            "type": "histogram2d"
           }
          ],
          "histogram2dcontour": [
           {
            "colorbar": {
             "outlinewidth": 0,
             "ticks": ""
            },
            "colorscale": [
             [
              0,
              "#0d0887"
             ],
             [
              0.1111111111111111,
              "#46039f"
             ],
             [
              0.2222222222222222,
              "#7201a8"
             ],
             [
              0.3333333333333333,
              "#9c179e"
             ],
             [
              0.4444444444444444,
              "#bd3786"
             ],
             [
              0.5555555555555556,
              "#d8576b"
             ],
             [
              0.6666666666666666,
              "#ed7953"
             ],
             [
              0.7777777777777778,
              "#fb9f3a"
             ],
             [
              0.8888888888888888,
              "#fdca26"
             ],
             [
              1,
              "#f0f921"
             ]
            ],
            "type": "histogram2dcontour"
           }
          ],
          "mesh3d": [
           {
            "colorbar": {
             "outlinewidth": 0,
             "ticks": ""
            },
            "type": "mesh3d"
           }
          ],
          "parcoords": [
           {
            "line": {
             "colorbar": {
              "outlinewidth": 0,
              "ticks": ""
             }
            },
            "type": "parcoords"
           }
          ],
          "pie": [
           {
            "automargin": true,
            "type": "pie"
           }
          ],
          "scatter": [
           {
            "fillpattern": {
             "fillmode": "overlay",
             "size": 10,
             "solidity": 0.2
            },
            "type": "scatter"
           }
          ],
          "scatter3d": [
           {
            "line": {
             "colorbar": {
              "outlinewidth": 0,
              "ticks": ""
             }
            },
            "marker": {
             "colorbar": {
              "outlinewidth": 0,
              "ticks": ""
             }
            },
            "type": "scatter3d"
           }
          ],
          "scattercarpet": [
           {
            "marker": {
             "colorbar": {
              "outlinewidth": 0,
              "ticks": ""
             }
            },
            "type": "scattercarpet"
           }
          ],
          "scattergeo": [
           {
            "marker": {
             "colorbar": {
              "outlinewidth": 0,
              "ticks": ""
             }
            },
            "type": "scattergeo"
           }
          ],
          "scattergl": [
           {
            "marker": {
             "colorbar": {
              "outlinewidth": 0,
              "ticks": ""
             }
            },
            "type": "scattergl"
           }
          ],
          "scattermapbox": [
           {
            "marker": {
             "colorbar": {
              "outlinewidth": 0,
              "ticks": ""
             }
            },
            "type": "scattermapbox"
           }
          ],
          "scatterpolar": [
           {
            "marker": {
             "colorbar": {
              "outlinewidth": 0,
              "ticks": ""
             }
            },
            "type": "scatterpolar"
           }
          ],
          "scatterpolargl": [
           {
            "marker": {
             "colorbar": {
              "outlinewidth": 0,
              "ticks": ""
             }
            },
            "type": "scatterpolargl"
           }
          ],
          "scatterternary": [
           {
            "marker": {
             "colorbar": {
              "outlinewidth": 0,
              "ticks": ""
             }
            },
            "type": "scatterternary"
           }
          ],
          "surface": [
           {
            "colorbar": {
             "outlinewidth": 0,
             "ticks": ""
            },
            "colorscale": [
             [
              0,
              "#0d0887"
             ],
             [
              0.1111111111111111,
              "#46039f"
             ],
             [
              0.2222222222222222,
              "#7201a8"
             ],
             [
              0.3333333333333333,
              "#9c179e"
             ],
             [
              0.4444444444444444,
              "#bd3786"
             ],
             [
              0.5555555555555556,
              "#d8576b"
             ],
             [
              0.6666666666666666,
              "#ed7953"
             ],
             [
              0.7777777777777778,
              "#fb9f3a"
             ],
             [
              0.8888888888888888,
              "#fdca26"
             ],
             [
              1,
              "#f0f921"
             ]
            ],
            "type": "surface"
           }
          ],
          "table": [
           {
            "cells": {
             "fill": {
              "color": "#EBF0F8"
             },
             "line": {
              "color": "white"
             }
            },
            "header": {
             "fill": {
              "color": "#C8D4E3"
             },
             "line": {
              "color": "white"
             }
            },
            "type": "table"
           }
          ]
         },
         "layout": {
          "annotationdefaults": {
           "arrowcolor": "#2a3f5f",
           "arrowhead": 0,
           "arrowwidth": 1
          },
          "autotypenumbers": "strict",
          "coloraxis": {
           "colorbar": {
            "outlinewidth": 0,
            "ticks": ""
           }
          },
          "colorscale": {
           "diverging": [
            [
             0,
             "#8e0152"
            ],
            [
             0.1,
             "#c51b7d"
            ],
            [
             0.2,
             "#de77ae"
            ],
            [
             0.3,
             "#f1b6da"
            ],
            [
             0.4,
             "#fde0ef"
            ],
            [
             0.5,
             "#f7f7f7"
            ],
            [
             0.6,
             "#e6f5d0"
            ],
            [
             0.7,
             "#b8e186"
            ],
            [
             0.8,
             "#7fbc41"
            ],
            [
             0.9,
             "#4d9221"
            ],
            [
             1,
             "#276419"
            ]
           ],
           "sequential": [
            [
             0,
             "#0d0887"
            ],
            [
             0.1111111111111111,
             "#46039f"
            ],
            [
             0.2222222222222222,
             "#7201a8"
            ],
            [
             0.3333333333333333,
             "#9c179e"
            ],
            [
             0.4444444444444444,
             "#bd3786"
            ],
            [
             0.5555555555555556,
             "#d8576b"
            ],
            [
             0.6666666666666666,
             "#ed7953"
            ],
            [
             0.7777777777777778,
             "#fb9f3a"
            ],
            [
             0.8888888888888888,
             "#fdca26"
            ],
            [
             1,
             "#f0f921"
            ]
           ],
           "sequentialminus": [
            [
             0,
             "#0d0887"
            ],
            [
             0.1111111111111111,
             "#46039f"
            ],
            [
             0.2222222222222222,
             "#7201a8"
            ],
            [
             0.3333333333333333,
             "#9c179e"
            ],
            [
             0.4444444444444444,
             "#bd3786"
            ],
            [
             0.5555555555555556,
             "#d8576b"
            ],
            [
             0.6666666666666666,
             "#ed7953"
            ],
            [
             0.7777777777777778,
             "#fb9f3a"
            ],
            [
             0.8888888888888888,
             "#fdca26"
            ],
            [
             1,
             "#f0f921"
            ]
           ]
          },
          "colorway": [
           "#636efa",
           "#EF553B",
           "#00cc96",
           "#ab63fa",
           "#FFA15A",
           "#19d3f3",
           "#FF6692",
           "#B6E880",
           "#FF97FF",
           "#FECB52"
          ],
          "font": {
           "color": "#2a3f5f"
          },
          "geo": {
           "bgcolor": "white",
           "lakecolor": "white",
           "landcolor": "#E5ECF6",
           "showlakes": true,
           "showland": true,
           "subunitcolor": "white"
          },
          "hoverlabel": {
           "align": "left"
          },
          "hovermode": "closest",
          "mapbox": {
           "style": "light"
          },
          "paper_bgcolor": "white",
          "plot_bgcolor": "#E5ECF6",
          "polar": {
           "angularaxis": {
            "gridcolor": "white",
            "linecolor": "white",
            "ticks": ""
           },
           "bgcolor": "#E5ECF6",
           "radialaxis": {
            "gridcolor": "white",
            "linecolor": "white",
            "ticks": ""
           }
          },
          "scene": {
           "xaxis": {
            "backgroundcolor": "#E5ECF6",
            "gridcolor": "white",
            "gridwidth": 2,
            "linecolor": "white",
            "showbackground": true,
            "ticks": "",
            "zerolinecolor": "white"
           },
           "yaxis": {
            "backgroundcolor": "#E5ECF6",
            "gridcolor": "white",
            "gridwidth": 2,
            "linecolor": "white",
            "showbackground": true,
            "ticks": "",
            "zerolinecolor": "white"
           },
           "zaxis": {
            "backgroundcolor": "#E5ECF6",
            "gridcolor": "white",
            "gridwidth": 2,
            "linecolor": "white",
            "showbackground": true,
            "ticks": "",
            "zerolinecolor": "white"
           }
          },
          "shapedefaults": {
           "line": {
            "color": "#2a3f5f"
           }
          },
          "ternary": {
           "aaxis": {
            "gridcolor": "white",
            "linecolor": "white",
            "ticks": ""
           },
           "baxis": {
            "gridcolor": "white",
            "linecolor": "white",
            "ticks": ""
           },
           "bgcolor": "#E5ECF6",
           "caxis": {
            "gridcolor": "white",
            "linecolor": "white",
            "ticks": ""
           }
          },
          "title": {
           "x": 0.05
          },
          "xaxis": {
           "automargin": true,
           "gridcolor": "white",
           "linecolor": "white",
           "ticks": "",
           "title": {
            "standoff": 15
           },
           "zerolinecolor": "white",
           "zerolinewidth": 2
          },
          "yaxis": {
           "automargin": true,
           "gridcolor": "white",
           "linecolor": "white",
           "ticks": "",
           "title": {
            "standoff": 15
           },
           "zerolinecolor": "white",
           "zerolinewidth": 2
          }
         }
        },
        "title": {
         "text": "Intensity vrs. Frequency: Spectral Density of Blackbody"
        },
        "width": 1000,
        "xaxis": {
         "anchor": "y",
         "domain": [
          0,
          1
         ],
         "showticklabels": true,
         "tickmode": "array",
         "tickvals": [
          0.1,
          1,
          10,
          100,
          1000
         ],
         "title": {
          "text": "Frequency (GHz)"
         },
         "type": "log"
        },
        "xaxis2": {
         "anchor": "y2",
         "domain": [
          0,
          1
         ],
         "tickmode": "array",
         "tickvals": [
          0.1,
          1,
          10,
          100,
          1000
         ],
         "title": {
          "text": "Frequency (GHz)"
         },
         "type": "log"
        },
        "yaxis": {
         "anchor": "x",
         "domain": [
          0.575,
          1
         ],
         "tickmode": "array",
         "tickvals": [
          1e-22,
          1e-21,
          1e-20,
          1e-19,
          1e-18
         ],
         "title": {
          "text": "Intensity (W/m^2/sr/Hz)"
         },
         "type": "log"
        },
        "yaxis2": {
         "anchor": "x2",
         "domain": [
          0,
          0.425
         ],
         "title": {
          "text": "Residuals (Intensity)"
         }
        }
       }
      },
      "text/html": [
       "<div>                            <div id=\"017a027d-ddc4-4ebe-8997-baed4c196d7f\" class=\"plotly-graph-div\" style=\"height:800px; width:1000px;\"></div>            <script type=\"text/javascript\">                require([\"plotly\"], function(Plotly) {                    window.PLOTLYENV=window.PLOTLYENV || {};                                    if (document.getElementById(\"017a027d-ddc4-4ebe-8997-baed4c196d7f\")) {                    Plotly.newPlot(                        \"017a027d-ddc4-4ebe-8997-baed4c196d7f\",                        [{\"error_y\":{\"array\":[6.13692517547149e-23,1.327184761247379e-22,1.3717950346208788e-22,6.193901221624085e-23,3.3051629897352035e-22,9.216358670989742e-23,2.288013550643663e-22,6.194613346657685e-22,2.0730723105099006e-22,1.9110478761943663e-22,3.8754208058564405e-22,1.26126410224579e-22,3.6862402309349244e-22,1.7202415765882286e-22,1.1375078326067102e-21,4.0316562551035114e-22,2.660722628998358e-22,5.113075987395461e-21,4.849353253375096e-22,1.207800635403375e-21,1.0352996895138075e-21,1.3551094442300917e-20,5.688281133539365e-21,1.7770116892536704e-21,4.909892529038938e-22,1.869562176735785e-20,4.837659491336216e-20,1.6570609445926653e-20,2.0850392216519457e-20,8.280535584683001e-20,3.914366570392264e-20,8.011396992674621e-20,2.8711154437637853e-19,2.4088780917700306e-20,1.2644684107552788e-18,8.847595441280172e-19,5.072974566883008e-19,1.0967585884943228e-18,1.801778485666541e-19,4.052043368942496e-20,8.125453629340174e-20,1.1466723071545437e-19,1.447965331983576e-19,2.0403595683072093e-19,1.14173839988783e-19,1.1596544081995253e-19,2.5192941476615033e-19,7.324997937513069e-20,2.6582867394680065e-19,1.0647462010533382e-18,1.5807528999843448e-18,4.842244092667529e-19,3.8552871982915053e-19,2.129802743816448e-20,3.1458533805643034e-20,4.3090762756603904e-20,5.567273306942742e-20,6.789103756283073e-20,7.962743658862292e-20,9.139865015848088e-20,1.0042295150999069e-19,1.0798100838720126e-19,1.1473211718450057e-19,1.1898627443382415e-19,1.2111508615259384e-19,1.227718385646513e-19,1.224223637522543e-19,1.2013817970960219e-19,1.166531024517506e-19,1.1227402605328055e-19,1.0742614650822754e-19,1.0161122923267333e-19,9.635800833642572e-20,9.131263083343982e-20,8.347350705006148e-20,7.579247315085179e-20,7.14277686163855e-20,6.518425585590231e-20,5.78697420756255e-20,5.3435664119749205e-20,4.999739842331276e-20,4.2612627303431924e-20,3.8700256564410696e-20,3.489849980538725e-20,2.5958343162246014e-20,2.0087062017397202e-20,1.9797311150658472e-20,1.9638328740835378e-20,1.6334591053887974e-20,1.443189208224813e-20,1.3437696391047312e-20,1.0795612821427921e-20,9.517690390713703e-21],\"color\":\"orange\",\"type\":\"data\"},\"mode\":\"markers\",\"name\":\"Frequency\",\"x\":[0.408,0.6,0.61,0.635,0.82,1.0,1.4,1.42,1.43,1.44,1.45,1.47,2.0,2.0,2.3,2.5,3.8,4.08,4.75,7.5,7.5,9.4,9.4,10.0,10.7,19.0,20.0,24.8,31.5,32.5,33.0,35.0,37.0,53.0,83.8,90.0,90.0,90.0,90.0,90.0,90.0,113.6,113.6,113.6,113.6,113.6,113.6,113.6,227.3,227.3,227.3,227.3,227.3,54.6,68.1,81.8,95.3,109.1,122.6,136.4,149.9,163.7,177.2,191.0,204.5,218.2,231.7,245.5,259.0,272.8,286.3,300.1,313.6,327.4,340.9,354.7,368.1,381.9,395.4,409.2,422.7,436.5,450.0,463.8,477.3,491.1,504.6,518.3,531.8,545.6,559.1,572.9,586.4],\"y\":[1.8872193966430687e-22,3.3020817798124706e-22,4.2130067592976895e-22,3.6975239115371963e-22,5.536975742808411e-22,7.607024093454343e-22,1.2504188452647959e-21,1.961299756273775e-21,1.64335805284706e-21,1.570718814828565e-21,1.7862246198543768e-21,1.4836941842460818e-21,3.01360416813374e-21,3.0750408447027315e-21,4.233944529020644e-21,5.089205648234201e-21,1.1311866142871173e-20,1.740336999017859e-20,1.793651352176097e-20,4.189260235696123e-20,4.2582761954721125e-20,7.546821343218605e-20,6.70706186757105e-20,7.334455487632059e-20,8.727588711028756e-20,2.6051416122690593e-19,1.914986989226986e-19,4.2139947075404744e-19,6.526913215634753e-19,7.93088532404744e-19,6.999456303001388e-19,6.816834701646565e-19,8.84147895953656e-19,1.4103634863235319e-18,1.9979865351327676e-18,2.2448038324381774e-18,2.539460106283451e-18,2.283617255812888e-18,2.519570745205698e-18,2.7441810914364115e-18,2.760374856188254e-18,3.3088211197789945e-18,3.423488350494449e-18,3.481215170204309e-18,3.585766819761934e-18,3.452319442872854e-18,3.697001545520893e-18,3.617875148232392e-18,2.896671657551597e-18,3.3910171549496314e-18,3.341694664134477e-18,3.746815687837652e-18,3.757250851074109e-18,1.5395956973090356e-18,1.9117211386179948e-18,2.3981950604092754e-18,2.9555699046364293e-18,3.264703700283374e-18,3.541837518211276e-18,3.8252600344621754e-18,3.860096260284147e-18,3.8299418996229235e-18,3.832108169288102e-18,3.710475586867317e-18,3.5362648456268245e-18,3.398232470080796e-18,3.209892496512975e-18,2.976874150946726e-18,2.7410479663284656e-18,2.5078855930964357e-18,2.2915149824748692e-18,2.0685769056288653e-18,1.887001353692832e-18,1.727725840761798e-18,1.5040829677407691e-18,1.3031198564598516e-18,1.1976533996484852e-18,1.053486407195483e-18,8.939238145303996e-19,8.046621934891813e-19,7.390927437206695e-19,5.981993030355326e-19,5.296312087783315e-19,4.653545125680064e-19,3.171947544964908e-19,2.2936927262814443e-19,2.2779212644677306e-19,2.281520146811529e-19,1.8209824400058336e-19,1.5736447218920724e-19,1.454659410508635e-19,1.11687512441086e-19,9.653761074795666e-20],\"type\":\"scatter\",\"xaxis\":\"x\",\"yaxis\":\"y\"},{\"name\":\"Best Fit: Planck Law\",\"x\":[0.408,0.6,0.61,0.635,0.82,1.0,1.4,1.42,1.43,1.44,1.45,1.47,2.0,2.0,2.3,2.5,3.8,4.08,4.75,7.5,7.5,9.4,9.4,10.0,10.7,19.0,20.0,24.8,31.5,32.5,33.0,35.0,37.0,53.0,54.6,68.1,81.8,83.8,90.0,90.0,90.0,90.0,90.0,90.0,95.3,109.1,113.6,113.6,113.6,113.6,113.6,113.6,113.6,122.6,136.4,149.9,163.7,177.2,191.0,204.5,218.2,227.3,227.3,227.3,227.3,227.3,231.7,245.5,259.0,272.8,286.3,300.1,313.6,327.4,340.9,354.7,368.1,381.9,395.4,409.2,422.7,436.5,450.0,463.8,477.3,491.1,504.6,518.3,531.8,545.6,559.1,572.9,586.4],\"y\":[1.3887822848427248e-22,2.9983481627121615e-22,3.098852999224462e-22,3.3573229006507704e-22,5.589402607600926e-22,8.2994341097660685e-22,1.6209577050133685e-21,1.6673071402745589e-21,1.690723734240513e-21,1.71430152118112e-21,1.738040457666187e-21,1.786001605574768e-21,3.290583691844906e-21,3.290583691844906e-21,4.34026033344259e-21,5.118833507446886e-21,1.1690900993809862e-20,1.3443721925053313e-20,1.8113181999914186e-20,4.405954690680916e-20,4.405954690680916e-20,6.803587329918432e-20,6.803587329918432e-20,7.658185835310635e-20,8.712429760036021e-20,2.5456899068038315e-19,2.794613265697699e-19,4.1080414508738766e-19,6.218199864811399e-19,6.555944352236581e-19,6.726741981162174e-19,7.421964782621352e-19,8.134825183467976e-19,1.423715746203327e-18,1.4866113868220926e-18,2.0112231968604285e-18,2.5071772878089137e-18,2.5747664625832454e-18,2.7749224930876332e-18,2.7749224930876332e-18,2.7749224930876332e-18,2.7749224930876332e-18,2.7749224930876332e-18,2.7749224930876332e-18,2.933898640209858e-18,3.290158421317662e-18,3.387348754881748e-18,3.387348754881748e-18,3.387348754881748e-18,3.387348754881748e-18,3.387348754881748e-18,3.387348754881748e-18,3.387348754881748e-18,3.553003649299638e-18,3.7332377488499555e-18,3.827076657936062e-18,3.846351872750433e-18,3.7997661046634896e-18,3.6961511678237586e-18,3.5508275574639965e-18,3.369506669811604e-18,3.2350936511018682e-18,3.2350936511018682e-18,3.2350936511018682e-18,3.2350936511018682e-18,3.2350936511018682e-18,3.1670661254269044e-18,2.9445640754782953e-18,2.7190743103721128e-18,2.486932784792583e-18,2.2632162280982582e-18,2.0419738629475295e-18,1.835708061168104e-18,1.6373293387016675e-18,1.4567473994620298e-18,1.2866365157700123e-18,1.1356616334813707e-18,9.946229714426405e-19,8.703664784715976e-19,7.566800057216133e-19,6.576990877395626e-19,5.6810759473878985e-19,4.908703039176651e-19,4.2158962419878035e-19,3.623594473768447e-19,3.0963967743560997e-19,2.6489038288910225e-19,2.255908632818579e-19,1.921793512305312e-19,1.6280936615396392e-19,1.38169591128205e-19,1.1662136908740288e-19,9.863104425199371e-20],\"type\":\"scatter\",\"xaxis\":\"x\",\"yaxis\":\"y\"},{\"error_y\":{\"array\":[0.4418925300567524,0.44263864275417286,0.4426783183856068,0.18448929116777787,0.5913266983560235,0.11104803712032263,0.14115195871966277,0.3715340261565488,0.12261449156512502,0.11147676488542646,0.2229764438890159,0.07061942712195335,0.11202390141513735,0.052277703218779226,0.2620828579894115,0.07876123044905156,0.02275891849915731,0.38033187653687534,0.0267725088468612,0.027412915479090322,0.023497737997705274,0.19917572576324055,0.08360708634583752,0.023204081586270235,0.0056355031423732695,0.07344029497618822,0.17310658153368685,0.040337006439897766,0.033531235196396926,0.1263057637433739,0.058191121071005936,0.10794172739048068,0.35294125921705344,0.01691965617570692,0.49110023341171155,0.3188411735217702,0.1828150004016275,0.39523935937899607,0.06493076798198126,0.014602365936476376,0.029281731830639528,0.03385161641540432,0.042746272579604054,0.060234706136080694,0.03370595951309678,0.03423486898206939,0.07437362757616175,0.021624575641809828,0.0821703179616639,0.3291237645286365,0.48862662737628715,0.1496786373098741,0.11917080660024788,0.014326560140032939,0.015641493124557544,0.017186962791236046,0.018975683858473456,0.020634580123239578,0.022411301661431998,0.02448240811521761,0.02624012019768339,0.02807361675674947,0.030194520932140725,0.03219193940703501,0.0341089743707786,0.03643614647348828,0.03865481770948259,0.040799988259752076,0.04290177065289043,0.0451455812315589,0.0474661436121355,0.04976127808315847,0.05249092182724897,0.055769250983951,0.05730129127458052,0.0589074476138992,0.062895290736752,0.06553664828528591,0.06648893713972917,0.07061857550840121,0.07601865253477569,0.07500802259653787,0.078840085162092,0.08277836503142338,0.07163699842838647,0.06487237741543746,0.07473774976174473,0.08705285513402572,0.08499659796589493,0.08864288599097134,0.09725509268228726,0.09256976578054968,0.09649791769817254],\"color\":\"orange\",\"type\":\"data\"},\"mode\":\"markers\",\"name\":\"Residuals\",\"x\":[0.408,0.6,0.61,0.635,0.82,1.0,1.4,1.42,1.43,1.44,1.45,1.47,2.0,2.0,2.3,2.5,3.8,4.08,4.75,7.5,7.5,9.4,9.4,10.0,10.7,19.0,20.0,24.8,31.5,32.5,33.0,35.0,37.0,53.0,83.8,90.0,90.0,90.0,90.0,90.0,90.0,113.6,113.6,113.6,113.6,113.6,113.6,113.6,227.3,227.3,227.3,227.3,227.3,54.6,68.1,81.8,95.3,109.1,122.6,136.4,149.9,163.7,177.2,191.0,204.5,218.2,231.7,245.5,259.0,272.8,286.3,300.1,313.6,327.4,340.9,354.7,368.1,381.9,395.4,409.2,422.7,436.5,450.0,463.8,477.3,491.1,504.6,518.3,531.8,545.6,559.1,572.9,586.4],\"y\":[0.3589022680086896,0.1013003162466517,0.35953746768628997,0.10133103694627725,-0.009379690187502416,-0.08342858165437528,-0.22859255278688267,0.17632780961449238,-0.028015033109315125,-0.08375580641941525,0.027723268451927085,-0.16926492136685287,-0.08417337155034457,-0.06550292207317411,-0.024495259789548,-0.005788009938120158,-0.03242135496138251,0.29453510621535534,-0.009753585988041975,-0.049182179617762806,-0.033517933246376794,0.10924148941718416,-0.014187436372414262,-0.04227245912287847,0.0017399223190606875,0.023353867769335138,-0.31475778322089465,0.02579167175736726,0.04964673981779744,0.20972432008850003,0.0405418139424603,-0.0815323298746591,0.08686772734891511,-0.009378459088762696,-0.22401252145866407,-0.19103908738712094,-0.08485368055890642,-0.17705187748435958,-0.09202121807654798,-0.011078291998352731,-0.005242538101737095,-0.023182624756184825,0.010668991659219496,0.02771088013517465,0.05857621379972506,0.019180395256754156,0.09141449937591534,0.0680551103627626,-0.10460964350599403,0.048197523986564,0.03295144577848634,0.15817843064960163,0.1614040446076097,0.035640995997082175,-0.049473404243625965,-0.043468097740659024,0.007386507539681479,-0.007736624737994758,-0.0031427299801852575,0.02464945760300636,0.008627891547354747,-0.004266373350749896,0.00851159353859134,0.0038754959938481826,-0.004101216294370734,0.008525224338196077,0.013522411402224191,0.01097278736010609,0.00808130026918819,0.008425160676628445,0.012503778483591892,0.013028101467927275,0.027941966159961543,0.055209724716599254,0.0324940125489293,0.012811186755394199,0.054586475706746115,0.05918165721375275,0.02706599649858961,0.0634114650905959,0.12375516022205174,0.0529683260273587,0.0789636377497545,0.1038092160175906,-0.12464058328630738,-0.2592381101551751,-0.140051352705623,0.011353081246446774,-0.052456765856467656,-0.03344337057124595,0.05280720499410297,-0.04230662600624373,-0.021224894452993005],\"type\":\"scatter\",\"xaxis\":\"x2\",\"yaxis\":\"y2\"}],                        {\"template\":{\"data\":{\"histogram2dcontour\":[{\"type\":\"histogram2dcontour\",\"colorbar\":{\"outlinewidth\":0,\"ticks\":\"\"},\"colorscale\":[[0.0,\"#0d0887\"],[0.1111111111111111,\"#46039f\"],[0.2222222222222222,\"#7201a8\"],[0.3333333333333333,\"#9c179e\"],[0.4444444444444444,\"#bd3786\"],[0.5555555555555556,\"#d8576b\"],[0.6666666666666666,\"#ed7953\"],[0.7777777777777778,\"#fb9f3a\"],[0.8888888888888888,\"#fdca26\"],[1.0,\"#f0f921\"]]}],\"choropleth\":[{\"type\":\"choropleth\",\"colorbar\":{\"outlinewidth\":0,\"ticks\":\"\"}}],\"histogram2d\":[{\"type\":\"histogram2d\",\"colorbar\":{\"outlinewidth\":0,\"ticks\":\"\"},\"colorscale\":[[0.0,\"#0d0887\"],[0.1111111111111111,\"#46039f\"],[0.2222222222222222,\"#7201a8\"],[0.3333333333333333,\"#9c179e\"],[0.4444444444444444,\"#bd3786\"],[0.5555555555555556,\"#d8576b\"],[0.6666666666666666,\"#ed7953\"],[0.7777777777777778,\"#fb9f3a\"],[0.8888888888888888,\"#fdca26\"],[1.0,\"#f0f921\"]]}],\"heatmap\":[{\"type\":\"heatmap\",\"colorbar\":{\"outlinewidth\":0,\"ticks\":\"\"},\"colorscale\":[[0.0,\"#0d0887\"],[0.1111111111111111,\"#46039f\"],[0.2222222222222222,\"#7201a8\"],[0.3333333333333333,\"#9c179e\"],[0.4444444444444444,\"#bd3786\"],[0.5555555555555556,\"#d8576b\"],[0.6666666666666666,\"#ed7953\"],[0.7777777777777778,\"#fb9f3a\"],[0.8888888888888888,\"#fdca26\"],[1.0,\"#f0f921\"]]}],\"heatmapgl\":[{\"type\":\"heatmapgl\",\"colorbar\":{\"outlinewidth\":0,\"ticks\":\"\"},\"colorscale\":[[0.0,\"#0d0887\"],[0.1111111111111111,\"#46039f\"],[0.2222222222222222,\"#7201a8\"],[0.3333333333333333,\"#9c179e\"],[0.4444444444444444,\"#bd3786\"],[0.5555555555555556,\"#d8576b\"],[0.6666666666666666,\"#ed7953\"],[0.7777777777777778,\"#fb9f3a\"],[0.8888888888888888,\"#fdca26\"],[1.0,\"#f0f921\"]]}],\"contourcarpet\":[{\"type\":\"contourcarpet\",\"colorbar\":{\"outlinewidth\":0,\"ticks\":\"\"}}],\"contour\":[{\"type\":\"contour\",\"colorbar\":{\"outlinewidth\":0,\"ticks\":\"\"},\"colorscale\":[[0.0,\"#0d0887\"],[0.1111111111111111,\"#46039f\"],[0.2222222222222222,\"#7201a8\"],[0.3333333333333333,\"#9c179e\"],[0.4444444444444444,\"#bd3786\"],[0.5555555555555556,\"#d8576b\"],[0.6666666666666666,\"#ed7953\"],[0.7777777777777778,\"#fb9f3a\"],[0.8888888888888888,\"#fdca26\"],[1.0,\"#f0f921\"]]}],\"surface\":[{\"type\":\"surface\",\"colorbar\":{\"outlinewidth\":0,\"ticks\":\"\"},\"colorscale\":[[0.0,\"#0d0887\"],[0.1111111111111111,\"#46039f\"],[0.2222222222222222,\"#7201a8\"],[0.3333333333333333,\"#9c179e\"],[0.4444444444444444,\"#bd3786\"],[0.5555555555555556,\"#d8576b\"],[0.6666666666666666,\"#ed7953\"],[0.7777777777777778,\"#fb9f3a\"],[0.8888888888888888,\"#fdca26\"],[1.0,\"#f0f921\"]]}],\"mesh3d\":[{\"type\":\"mesh3d\",\"colorbar\":{\"outlinewidth\":0,\"ticks\":\"\"}}],\"scatter\":[{\"fillpattern\":{\"fillmode\":\"overlay\",\"size\":10,\"solidity\":0.2},\"type\":\"scatter\"}],\"parcoords\":[{\"type\":\"parcoords\",\"line\":{\"colorbar\":{\"outlinewidth\":0,\"ticks\":\"\"}}}],\"scatterpolargl\":[{\"type\":\"scatterpolargl\",\"marker\":{\"colorbar\":{\"outlinewidth\":0,\"ticks\":\"\"}}}],\"bar\":[{\"error_x\":{\"color\":\"#2a3f5f\"},\"error_y\":{\"color\":\"#2a3f5f\"},\"marker\":{\"line\":{\"color\":\"#E5ECF6\",\"width\":0.5},\"pattern\":{\"fillmode\":\"overlay\",\"size\":10,\"solidity\":0.2}},\"type\":\"bar\"}],\"scattergeo\":[{\"type\":\"scattergeo\",\"marker\":{\"colorbar\":{\"outlinewidth\":0,\"ticks\":\"\"}}}],\"scatterpolar\":[{\"type\":\"scatterpolar\",\"marker\":{\"colorbar\":{\"outlinewidth\":0,\"ticks\":\"\"}}}],\"histogram\":[{\"marker\":{\"pattern\":{\"fillmode\":\"overlay\",\"size\":10,\"solidity\":0.2}},\"type\":\"histogram\"}],\"scattergl\":[{\"type\":\"scattergl\",\"marker\":{\"colorbar\":{\"outlinewidth\":0,\"ticks\":\"\"}}}],\"scatter3d\":[{\"type\":\"scatter3d\",\"line\":{\"colorbar\":{\"outlinewidth\":0,\"ticks\":\"\"}},\"marker\":{\"colorbar\":{\"outlinewidth\":0,\"ticks\":\"\"}}}],\"scattermapbox\":[{\"type\":\"scattermapbox\",\"marker\":{\"colorbar\":{\"outlinewidth\":0,\"ticks\":\"\"}}}],\"scatterternary\":[{\"type\":\"scatterternary\",\"marker\":{\"colorbar\":{\"outlinewidth\":0,\"ticks\":\"\"}}}],\"scattercarpet\":[{\"type\":\"scattercarpet\",\"marker\":{\"colorbar\":{\"outlinewidth\":0,\"ticks\":\"\"}}}],\"carpet\":[{\"aaxis\":{\"endlinecolor\":\"#2a3f5f\",\"gridcolor\":\"white\",\"linecolor\":\"white\",\"minorgridcolor\":\"white\",\"startlinecolor\":\"#2a3f5f\"},\"baxis\":{\"endlinecolor\":\"#2a3f5f\",\"gridcolor\":\"white\",\"linecolor\":\"white\",\"minorgridcolor\":\"white\",\"startlinecolor\":\"#2a3f5f\"},\"type\":\"carpet\"}],\"table\":[{\"cells\":{\"fill\":{\"color\":\"#EBF0F8\"},\"line\":{\"color\":\"white\"}},\"header\":{\"fill\":{\"color\":\"#C8D4E3\"},\"line\":{\"color\":\"white\"}},\"type\":\"table\"}],\"barpolar\":[{\"marker\":{\"line\":{\"color\":\"#E5ECF6\",\"width\":0.5},\"pattern\":{\"fillmode\":\"overlay\",\"size\":10,\"solidity\":0.2}},\"type\":\"barpolar\"}],\"pie\":[{\"automargin\":true,\"type\":\"pie\"}]},\"layout\":{\"autotypenumbers\":\"strict\",\"colorway\":[\"#636efa\",\"#EF553B\",\"#00cc96\",\"#ab63fa\",\"#FFA15A\",\"#19d3f3\",\"#FF6692\",\"#B6E880\",\"#FF97FF\",\"#FECB52\"],\"font\":{\"color\":\"#2a3f5f\"},\"hovermode\":\"closest\",\"hoverlabel\":{\"align\":\"left\"},\"paper_bgcolor\":\"white\",\"plot_bgcolor\":\"#E5ECF6\",\"polar\":{\"bgcolor\":\"#E5ECF6\",\"angularaxis\":{\"gridcolor\":\"white\",\"linecolor\":\"white\",\"ticks\":\"\"},\"radialaxis\":{\"gridcolor\":\"white\",\"linecolor\":\"white\",\"ticks\":\"\"}},\"ternary\":{\"bgcolor\":\"#E5ECF6\",\"aaxis\":{\"gridcolor\":\"white\",\"linecolor\":\"white\",\"ticks\":\"\"},\"baxis\":{\"gridcolor\":\"white\",\"linecolor\":\"white\",\"ticks\":\"\"},\"caxis\":{\"gridcolor\":\"white\",\"linecolor\":\"white\",\"ticks\":\"\"}},\"coloraxis\":{\"colorbar\":{\"outlinewidth\":0,\"ticks\":\"\"}},\"colorscale\":{\"sequential\":[[0.0,\"#0d0887\"],[0.1111111111111111,\"#46039f\"],[0.2222222222222222,\"#7201a8\"],[0.3333333333333333,\"#9c179e\"],[0.4444444444444444,\"#bd3786\"],[0.5555555555555556,\"#d8576b\"],[0.6666666666666666,\"#ed7953\"],[0.7777777777777778,\"#fb9f3a\"],[0.8888888888888888,\"#fdca26\"],[1.0,\"#f0f921\"]],\"sequentialminus\":[[0.0,\"#0d0887\"],[0.1111111111111111,\"#46039f\"],[0.2222222222222222,\"#7201a8\"],[0.3333333333333333,\"#9c179e\"],[0.4444444444444444,\"#bd3786\"],[0.5555555555555556,\"#d8576b\"],[0.6666666666666666,\"#ed7953\"],[0.7777777777777778,\"#fb9f3a\"],[0.8888888888888888,\"#fdca26\"],[1.0,\"#f0f921\"]],\"diverging\":[[0,\"#8e0152\"],[0.1,\"#c51b7d\"],[0.2,\"#de77ae\"],[0.3,\"#f1b6da\"],[0.4,\"#fde0ef\"],[0.5,\"#f7f7f7\"],[0.6,\"#e6f5d0\"],[0.7,\"#b8e186\"],[0.8,\"#7fbc41\"],[0.9,\"#4d9221\"],[1,\"#276419\"]]},\"xaxis\":{\"gridcolor\":\"white\",\"linecolor\":\"white\",\"ticks\":\"\",\"title\":{\"standoff\":15},\"zerolinecolor\":\"white\",\"automargin\":true,\"zerolinewidth\":2},\"yaxis\":{\"gridcolor\":\"white\",\"linecolor\":\"white\",\"ticks\":\"\",\"title\":{\"standoff\":15},\"zerolinecolor\":\"white\",\"automargin\":true,\"zerolinewidth\":2},\"scene\":{\"xaxis\":{\"backgroundcolor\":\"#E5ECF6\",\"gridcolor\":\"white\",\"linecolor\":\"white\",\"showbackground\":true,\"ticks\":\"\",\"zerolinecolor\":\"white\",\"gridwidth\":2},\"yaxis\":{\"backgroundcolor\":\"#E5ECF6\",\"gridcolor\":\"white\",\"linecolor\":\"white\",\"showbackground\":true,\"ticks\":\"\",\"zerolinecolor\":\"white\",\"gridwidth\":2},\"zaxis\":{\"backgroundcolor\":\"#E5ECF6\",\"gridcolor\":\"white\",\"linecolor\":\"white\",\"showbackground\":true,\"ticks\":\"\",\"zerolinecolor\":\"white\",\"gridwidth\":2}},\"shapedefaults\":{\"line\":{\"color\":\"#2a3f5f\"}},\"annotationdefaults\":{\"arrowcolor\":\"#2a3f5f\",\"arrowhead\":0,\"arrowwidth\":1},\"geo\":{\"bgcolor\":\"white\",\"landcolor\":\"#E5ECF6\",\"subunitcolor\":\"white\",\"showland\":true,\"showlakes\":true,\"lakecolor\":\"white\"},\"title\":{\"x\":0.05},\"mapbox\":{\"style\":\"light\"}}},\"xaxis\":{\"anchor\":\"y\",\"domain\":[0.0,1.0],\"title\":{\"text\":\"Frequency (GHz)\"},\"type\":\"log\",\"tickmode\":\"array\",\"tickvals\":[0.1,1,10,100,1000],\"showticklabels\":true},\"yaxis\":{\"anchor\":\"x\",\"domain\":[0.575,1.0],\"title\":{\"text\":\"Intensity (W/m^2/sr/Hz)\"},\"tickmode\":\"array\",\"tickvals\":[1e-22,1e-21,1e-20,1e-19,1e-18],\"type\":\"log\"},\"xaxis2\":{\"anchor\":\"y2\",\"domain\":[0.0,1.0],\"title\":{\"text\":\"Frequency (GHz)\"},\"type\":\"log\",\"tickmode\":\"array\",\"tickvals\":[0.1,1,10,100,1000]},\"yaxis2\":{\"anchor\":\"x2\",\"domain\":[0.0,0.425],\"title\":{\"text\":\"Residuals (Intensity)\"}},\"font\":{\"family\":\"Courier New, monospace\",\"size\":10,\"color\":\"RebeccaPurple\"},\"title\":{\"text\":\"Intensity vrs. Frequency: Spectral Density of Blackbody\"},\"height\":800,\"width\":1000},                        {\"responsive\": true}                    ).then(function(){\n",
       "                            \n",
       "var gd = document.getElementById('017a027d-ddc4-4ebe-8997-baed4c196d7f');\n",
       "var x = new MutationObserver(function (mutations, observer) {{\n",
       "        var display = window.getComputedStyle(gd).display;\n",
       "        if (!display || display === 'none') {{\n",
       "            console.log([gd, 'removed!']);\n",
       "            Plotly.purge(gd);\n",
       "            observer.disconnect();\n",
       "        }}\n",
       "}});\n",
       "\n",
       "// Listen for the removal of the full notebook cells\n",
       "var notebookContainer = gd.closest('#notebook-container');\n",
       "if (notebookContainer) {{\n",
       "    x.observe(notebookContainer, {childList: true});\n",
       "}}\n",
       "\n",
       "// Listen for the clearing of the current output cell\n",
       "var outputEl = gd.closest('.output');\n",
       "if (outputEl) {{\n",
       "    x.observe(outputEl, {childList: true});\n",
       "}}\n",
       "\n",
       "                        })                };                });            </script>        </div>"
      ]
     },
     "metadata": {},
     "output_type": "display_data"
    }
   ],
   "source": [
    "# Your code...\n",
    "\n",
    "from plotly.subplots import make_subplots\n",
    "\n",
    "sorted_data=np.sort(cmb_intensity_data['frequency'])\n",
    "fit_data=planck_radiation_law(cmb_intensity_data['frequency']*1e9,*poptT)\n",
    "fractional_residuals=(cmb_intensity_data['intensity']-fit_data)/fit_data\n",
    "\n",
    "fig = make_subplots(rows=2, cols=1)\n",
    "\n",
    "fig.add_trace( \n",
    "   go.Scatter(\n",
    "        x=cmb_intensity_data['frequency'],\n",
    "        y=cmb_intensity_data['intensity'],\n",
    "        error_y=dict(\n",
    "            type='data', # value of error bar given in data coordinates\n",
    "            array=cmb_intensity_data['error'],\n",
    "            color='orange')\n",
    "   ,\n",
    "        mode='markers',name='Frequency' ),row=1,col=1),\n",
    "\n",
    "fig.add_trace( \n",
    "   go.Scatter(\n",
    "        x=sorted_data,\n",
    "        y=planck_radiation_law(sorted_data*1e9,*poptT),name='Best Fit: Planck Law'),row=1,col=1)\n",
    "\n",
    "\n",
    "fig.add_trace( \n",
    "   go.Scatter(\n",
    "        x=cmb_intensity_data['frequency'],\n",
    "        y=fractional_residuals ,mode='markers',error_y=dict(type='data',array=cmb_intensity_data['error']/fit_data,color='orange'),name='Residuals'),row=2,col=1)\n",
    "        \n",
    "fig.update_layout(\n",
    "    title=\"Intensity vrs. Frequency: Spectral Density of Blackbody\",\n",
    "    # xaxis_title=\"Frequency (Hz)\",\n",
    "    # yaxis_title=\"Intensity (W/m^2/sr/Hz)\",\n",
    "    # legend_title=\"error\",\n",
    "    font=dict(\n",
    "        family=\"Courier New, monospace\",\n",
    "        size=10,\n",
    "        color=\"RebeccaPurple\"\n",
    "    )\n",
    "    #   xaxis = dict(\n",
    "    #     tickmode = 'array',\n",
    "    #     tickvals = [1e8,1e9,1e10,1e11]),\n",
    "    # xaxis1 = dict(\n",
    "    #     tickmode = 'array',\n",
    "    #     tickvals = [1e8,1e9,1e10,1e11]),\n",
    "        # yaxis = dict(\n",
    "        # tickmode = 'array',\n",
    "        # tickvals = [10**-22,10**-21,10**-20,10**-19,10**-18],)\n",
    "         ,height=800,width=1000)\n",
    "\n",
    "fig.update_xaxes(title_text=\"Frequency (GHz)\", type=\"log\",tickmode='array',tickvals=[.1,1,10,100,1000], row=1, col=1,showticklabels=True)\n",
    "fig.update_yaxes(title_text=\"Intensity (W/m^2/sr/Hz)\", tickmode='array',tickvals=[10**-22,10**-21,10**-20,10**-19,10**-18], type='log',row=1, col=1)\n",
    "fig.update_xaxes(title_text=\"Frequency (GHz)\", type=\"log\",tickmode='array',tickvals=[.1,1,10,100,1000],  row=2, col=1)\n",
    "fig.update_yaxes(title_text=\"Residuals (Intensity)\",  row=2, col=1)\n",
    "fig.show()\n"
   ]
  },
  {
   "cell_type": "markdown",
   "id": "c4896d98",
   "metadata": {},
   "source": [
    "_____________________________________________________________________\n",
    "Observations:\n",
    "\n",
    "The fit is astoundingly good. The image above shows as much but the measure of fractional residuals demonstrates the tiny disrepancies between fit and data, as most points, especially in the higher frequency ranges, are located near the zero point. This is further evidence that the best fit parameter that tracks the data is the above determined temperature of around 2.7K. Errors for the fractional residuals are also exceedingly tiny, not only are most tracked around the zero point but we can have some certainity that the residuals themselves are properly measured. \n",
    "\n",
    "____________________________________________________________________"
   ]
  },
  {
   "cell_type": "markdown",
   "id": "187dd3f0",
   "metadata": {},
   "source": [
    "Part 5) (5 pts)\n",
    "\n",
    "Now calculate the $\\Delta\\chi^2$ vs temperature for $\\pm \\, 4\\sigma$ (based on return of curve_fit) around the best-fit temperature $T_{fit}$. That is:\n",
    "\n",
    "$\\Delta\\chi^2 (T) = \\chi^2 (T) - \\chi^2 (T_{fit})$\n",
    "\n",
    "make a plot\n",
    "- $\\Delta\\chi^2 (T)$ vs T\n",
    "- vertical line at $T_{fit}$\n",
    "- vertical dotted line at currrent world best estimate of $T=2.72548 \\, K$\n",
    "- horizontal lines at $\\Delta\\chi^2$ of 1, 4, 9 \n",
    "\n",
    "______________________________________________________________________"
   ]
  },
  {
   "cell_type": "code",
   "execution_count": null,
   "id": "81525e83",
   "metadata": {
    "ExecuteTime": {
     "start_time": "2023-02-12T15:56:01.113Z"
    }
   },
   "outputs": [],
   "source": [
    "\n",
    "sigma=np.sqrt(np.diag(pcovT))[0]\n",
    "best_cmb_temp=2.72548\n",
    "best_fit_temp=poptT[0]\n",
    "sigmas=list(range(-4,5))\n",
    "chi_square_best_fit=chi2\n",
    "\n",
    "n_bins = 10000\n",
    "tempvals = np.linspace(best_fit_temp - 4*sigma, best_fit_temp + 4*sigma,n_bins)\n",
    "delta_chi_square = np.zeros(n_bins)\n",
    "\n",
    "for i in range(n_bins):\n",
    "    delta_chi_square[i] = chi_squared(planck_radiation_law(cmb_intensity_data['frequency']*1e9, tempvals[i]),cmb_intensity_data['intensity'],cmb_intensity_data['error']) - chi2\n",
    "\n",
    "temp_delta_chi_trace = dict(\n",
    "    x = tempvals,\n",
    "    y = delta_chi_square,\n",
    "    mode = 'lines',\n",
    "    type = 'scatter',\n",
    "    line_shape='spline',\n",
    "    connectgaps = True,\n",
    "    name=\"$\\Delta\\chi(T)^{2}$\",\n",
    "    showlegend=True)\n",
    "\n",
    "best_fit_temp_trace=dict(\n",
    "    x=[best_fit_temp]*10,\n",
    "    y=list(range(0,25,5)),\n",
    "    mode = 'lines',\n",
    "    type = 'scatter',\n",
    "    line_shape='spline',\n",
    "    line_color='purple',\n",
    "            name='$Best Fit Temperature (K)$')\n",
    "\n",
    "\n",
    "best_current_temp_trace=dict(\n",
    "    x=[best_cmb_temp]*10,\n",
    "    y=list(range(0,25,5)),\n",
    "    mode = 'lines',\n",
    "    type = 'scatter',\n",
    "    line_shape='spline',\n",
    "    line=dict(color='red', width=1, dash='dash'),\n",
    "    name=\"Current Best Measurement (K)\")\n",
    "\n",
    "layout=dict(\n",
    "    title=\"$\\Delta\\chi(T)^{2} vrs.  Temperature  (Kelvin) $\",\n",
    "    xaxis_title=\"Temperature (K)\",\n",
    "    yaxis_title=r\"$\\Delta\\chi(T)^{2}$\",\n",
    "    font=dict(\n",
    "        family=\"Courier New, monospace\",\n",
    "        size=8,\n",
    "        color=\"RebeccaPurple\")\n",
    "    ,height=800,width=1000 ,\n",
    "    \n",
    "     yaxis = dict(\n",
    "        tickmode = 'array',\n",
    "        tickvals = list(range(0,20,5)),\n",
    "    ),\n",
    "    xaxis = dict(\n",
    "        tickmode = 'array',\n",
    "        tickvals = np.linspace(best_fit_temp - 4*sigma, best_fit_temp + 4*sigma,9),\n",
    "        ticktext = [\"$T_{fit}-4\\sigma$\",\n",
    "                      \"$T_{fit}-3\\sigma$\",\"$T_{fit}-2\\sigma$\",\n",
    "                      \"$T_{fit}-\\sigma$\",\n",
    "                      \"$T_{fit}$\",\n",
    "                     \"$T_{fit}+1\\sigma$\",\n",
    "                     \"$T_{fit}+2\\sigma$\",\n",
    "                     \"$T_{fit}+3\\sigma$\",\n",
    "                     \"$T_{fit}+4\\sigma$\"]\n",
    "    ))\n",
    "\n",
    "data=[temp_delta_chi_trace,best_fit_temp_trace,best_current_temp_trace]\n",
    "fig = go.Figure(data = data,layout=layout)\n",
    "\n",
    "for (num,color) in zip([1,4,9],colors):\n",
    "    fig.add_hline(y=num,line_color=color,opacity=.2,annotation_text=f\"${num}\")\n",
    "\n",
    "fig.show()\n",
    "\n"
   ]
  },
  {
   "cell_type": "markdown",
   "id": "ecb77acf",
   "metadata": {},
   "source": [
    "_______________________________________________________________________\n",
    "Summary and Conclusions:\n",
    "\n",
    "(comment on)\n",
    "- what do the horizontal lines at $\\Delta\\chi^2$ of 1, 4, 9 represent?\n",
    "- what are the approximate 68% and 95% confidence intevals on the fit temperature from this data?\n",
    "- what do these confidence intervals represent?\n",
    "- how do the $\\Delta\\chi^2$ of 1, 4, 9 compare to the estimate of the 1-sigma error retuned by curve fit?\n",
    "\n",
    "\n",
    "\n",
    "_________________________________________________________________________"
   ]
  },
  {
   "cell_type": "code",
   "execution_count": null,
   "id": "13dfaac3",
   "metadata": {
    "ExecuteTime": {
     "start_time": "2023-02-12T15:56:01.134Z"
    }
   },
   "outputs": [],
   "source": [
    "np.linspace(best_fit_temp - 4*sigma, best_fit_temp + 4*sigma,9)"
   ]
  },
  {
   "cell_type": "code",
   "execution_count": null,
   "id": "2f56cc75",
   "metadata": {},
   "outputs": [],
   "source": []
  }
 ],
 "metadata": {
  "kernelspec": {
   "display_name": "Python 3 (ipykernel)",
   "language": "python",
   "name": "python3"
  },
  "language_info": {
   "codemirror_mode": {
    "name": "ipython",
    "version": 3
   },
   "file_extension": ".py",
   "mimetype": "text/x-python",
   "name": "python",
   "nbconvert_exporter": "python",
   "pygments_lexer": "ipython3",
   "version": "3.10.6"
  },
  "toc": {
   "base_numbering": 1,
   "nav_menu": {},
   "number_sections": true,
   "sideBar": true,
   "skip_h1_title": false,
   "title_cell": "Table of Contents",
   "title_sidebar": "Contents",
   "toc_cell": false,
   "toc_position": {},
   "toc_section_display": true,
   "toc_window_display": false
  },
  "vscode": {
   "interpreter": {
    "hash": "568a4b5f48887646ba43277ccf58c650a817c075ba85fa966fafffacc325934b"
   }
  }
 },
 "nbformat": 4,
 "nbformat_minor": 5
}
