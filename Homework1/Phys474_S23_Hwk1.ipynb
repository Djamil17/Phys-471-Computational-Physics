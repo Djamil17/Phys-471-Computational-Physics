{
 "cells": [
  {
   "cell_type": "markdown",
   "id": "98cb2d78",
   "metadata": {},
   "source": [
    "Physics 474 - Spring 2023 <br>\n",
    "Homework 1 \n",
    "\n",
    "<font color='red'>Author: "
   ]
  },
  {
   "cell_type": "markdown",
   "id": "6d937aa3",
   "metadata": {},
   "source": [
    "_________________________________________________________________________________\n",
    "In this homework we will practice fitting a function with parameters to some data.\n",
    "\n",
    "skills we will excercise:\n",
    "- reading in data\n",
    "- plotting data\n",
    "- writing user defined functions\n",
    "- fitting a function to data with 'curve_fit'\n",
    "- calculating $\\chi^2$ and $\\chi^2$ probaility\n",
    "- plotting residuals\n",
    "- analyzing data and making observations\n",
    "\n",
    "The data we will be using is global temperature data compiled from \n",
    "The current citation for this dataset is: \n",
    " \n",
    "    Rohde, R. A. and Hausfather, Z.: The Berkeley Earth Land/Ocean Temperature\n",
    "    Record, Earth Syst. Sci. Data, 12, 3469�3479, \n",
    "    https://doi.org/10.5194/essd-12-3469-2020, 2020.\n",
    "\n",
    " Data is: year, month, delta_T(C), T_error(C)\n",
    " \n",
    " where delta_T = Temp - (Jan 1951-Dec 1980 global mean temperature)\n",
    " \n",
    " Estimated Jan 1951-Dec 1980 global mean temperature (C)\n",
    "   Using air temperature above sea ice:   14.105 +/- 0.022\n",
    "\n",
    "The data is provided in a comma-separated-value file named 'global_temps_datafile.csv'\n",
    "\n",
    "Note that the temperature data is provided as a $\\Delta T$ from the global mean 1951-1980 temperature\n",
    "of\n",
    "\n",
    "$T_{mean}^{51-80}= 14.105 \\pm 0.022 \\, ^{\\circ}C$\n",
    "________________________________________________________________________________"
   ]
  },
  {
   "cell_type": "markdown",
   "id": "f9d02258",
   "metadata": {},
   "source": [
    "Part 1) (1 pt)\n",
    "\n",
    "Read in the data file and print the shape of the file\n",
    "\n"
   ]
  },
  {
   "cell_type": "code",
   "execution_count": null,
   "id": "4539a23a",
   "metadata": {},
   "outputs": [],
   "source": [
    "#Your code here...\n",
    "\n"
   ]
  },
  {
   "cell_type": "markdown",
   "id": "28caefbe",
   "metadata": {},
   "source": [
    "____________________________________________________\n",
    "Part 2) (4 pts)\n",
    "\n",
    "Plot \n",
    "- the data points with errorbars vs year.\n",
    "- a horizontal line at $T_{mean}^{51-80}= 14.105 \\, ^{\\circ}C$\n",
    "- suggestion: use \"alpha=0.2\" in plotting data points\n",
    "\n",
    "About errors: There are three errors that need to be added in quadrature\n",
    "- the error on each of the measurements $\\sigma_T$ from the file\n",
    "- error on the $T_{mean}^{51-80}$ of $\\sigma_{T_{mean}} = 0.022$\n",
    "- a random systematic error of $\\sigma_{sys}=0.13$\n",
    "\n",
    "Recall from lecture then \n",
    "\n",
    "$\\sigma_{tot}^2 = \\sigma_T^2 + \\sigma_{T_{mean}}^2 + \\sigma_{sys}^2$"
   ]
  },
  {
   "cell_type": "code",
   "execution_count": null,
   "id": "2e1a15f3",
   "metadata": {},
   "outputs": [],
   "source": [
    "#Your code here..."
   ]
  },
  {
   "cell_type": "markdown",
   "id": "dd9d010f",
   "metadata": {},
   "source": [
    "_________________________________________________________\n",
    "Part 2 Observations:\n",
    "\n",
    "\n",
    "\n",
    "__________________________________________________________"
   ]
  },
  {
   "cell_type": "markdown",
   "id": "a08b4c83",
   "metadata": {},
   "source": [
    "_____________________________________________________________________________\n",
    "Part 3a) (2 pts)\n",
    "\n",
    "Fit a straight-line (i.e. first-order polynomial) to the data using 'curve_fit' from some point\n",
    "starting after the pre-industrial era (i.e. sometime after 1900). You might try after\n",
    "1900, 1925, 1950, 1980...\n",
    "\n",
    "sometime after 1900 but before the visible rise around 1980.\n",
    "\n"
   ]
  },
  {
   "cell_type": "code",
   "execution_count": null,
   "id": "1f382c08",
   "metadata": {},
   "outputs": [],
   "source": [
    "#Your code here..."
   ]
  },
  {
   "cell_type": "markdown",
   "id": "41f1eb4c",
   "metadata": {},
   "source": [
    "__________________________________________________________\n",
    "Part 3b) (3 pts)\n",
    "\n",
    "1) Calculate and output the $\\chi^2$, dof, and $\\chi^2$ probability for the fit\n",
    "\n",
    "2) Plot\n",
    "- the data with errorbars for the entire range of years\n",
    "- the best fit line over the years for the fit\n",
    "- put labels on the data, fit, axes, etc..."
   ]
  },
  {
   "cell_type": "code",
   "execution_count": null,
   "id": "58b4fd63",
   "metadata": {},
   "outputs": [],
   "source": [
    "#Your code here..."
   ]
  },
  {
   "cell_type": "markdown",
   "id": "fd146155",
   "metadata": {},
   "source": [
    "_____________________________________________________________\n",
    "Part 3 Observations: (will depend on range used for linear fit)\n",
    "\n",
    "\n",
    "\n",
    "\n",
    "_____________________________________________________________"
   ]
  },
  {
   "cell_type": "markdown",
   "id": "c152a380",
   "metadata": {},
   "source": [
    "_____________________________________________________________________________\n",
    "Part 4a) (2 pts)\n",
    "\n",
    "Fit a Quadratic (i.e. second-order polynomial) to the data using 'curve_fit' ffor the entire range of years\n"
   ]
  },
  {
   "cell_type": "code",
   "execution_count": null,
   "id": "2008ae94",
   "metadata": {},
   "outputs": [],
   "source": [
    "#Your code here..."
   ]
  },
  {
   "cell_type": "markdown",
   "id": "ba966ee0",
   "metadata": {},
   "source": [
    "__________________________________________________________\n",
    "Part 4b) (3 pts)\n",
    "\n",
    "1) Calculate and output the $\\chi^2$, dof, and $\\chi^2$ probability for the fit\n",
    "\n",
    "2) Plot\n",
    "- the data with errorbars for the entire range of years\n",
    "- the best fit quadratic over the entire range of years\n",
    "- put labels on the data, fit, axes, etc..."
   ]
  },
  {
   "cell_type": "code",
   "execution_count": null,
   "id": "89beba39",
   "metadata": {},
   "outputs": [],
   "source": [
    "#Your code here..."
   ]
  },
  {
   "cell_type": "markdown",
   "id": "75d78d76",
   "metadata": {},
   "source": [
    "_____________________________________________________________\n",
    "Part 4 Observations:\n",
    "\n",
    "\n",
    "\n",
    "\n",
    "_____________________________________________________________"
   ]
  },
  {
   "cell_type": "markdown",
   "id": "49904723",
   "metadata": {},
   "source": [
    "Part 5: (2 pts)\n",
    "\n",
    "Make 2 subplots (2 rows x 1 column)\n",
    "- top: residuals with errorbars for the straight-line fit for years used in the fit\n",
    "- bottom: residuals with errorbars for quadratic fit for years used in the fit\n",
    "\n",
    "Use the same limits on the x-axis for both 1850-2025\n",
    "\n",
    "______________________________________________________________"
   ]
  },
  {
   "cell_type": "code",
   "execution_count": null,
   "id": "a857355b",
   "metadata": {},
   "outputs": [],
   "source": [
    "#Your code here..."
   ]
  },
  {
   "cell_type": "markdown",
   "id": "a1c0e99e",
   "metadata": {},
   "source": [
    "_____________________________________________\n",
    "Part 5 observations: (will depend on range used for linear fit)\n",
    "\n",
    "________________________________________________________________"
   ]
  },
  {
   "cell_type": "markdown",
   "id": "b97c0eee",
   "metadata": {},
   "source": [
    "Part 6: (3 pts)\n",
    "\n",
    "On a single plot show\n",
    "- data with errorbars\n",
    "- both fits projected out 100 years\n",
    "- a horizontal line from 1850-1900 with the mean pre-industrial temperature\n",
    "- a horizontal line at the 1951-1980 $T_{mean}$\n",
    "- a horizontal line at $\\Delta T = 2 \\, ^{\\circ}C$ above the pre-industrial temperature\n",
    "\n",
    "put all appropriate labels, etc... on plot\n",
    "\n",
    "_______________________________________________________________________"
   ]
  },
  {
   "cell_type": "code",
   "execution_count": null,
   "id": "49adbb1c",
   "metadata": {
    "scrolled": false
   },
   "outputs": [],
   "source": [
    "#Your code here..."
   ]
  },
  {
   "cell_type": "markdown",
   "id": "c4651428",
   "metadata": {},
   "source": [
    "__________________________________________________________________________\n",
    "Final Observations and Summary:\n",
    "\n",
    "\n",
    "\n",
    "__________________________________________________________________________"
   ]
  }
 ],
 "metadata": {
  "kernelspec": {
   "display_name": "Python 3 (ipykernel)",
   "language": "python",
   "name": "python3"
  },
  "language_info": {
   "codemirror_mode": {
    "name": "ipython",
    "version": 3
   },
   "file_extension": ".py",
   "mimetype": "text/x-python",
   "name": "python",
   "nbconvert_exporter": "python",
   "pygments_lexer": "ipython3",
   "version": "3.9.15"
  }
 },
 "nbformat": 4,
 "nbformat_minor": 5
}
