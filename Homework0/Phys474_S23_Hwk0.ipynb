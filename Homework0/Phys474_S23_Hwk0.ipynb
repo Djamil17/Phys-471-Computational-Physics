{
 "cells": [
  {
   "cell_type": "markdown",
   "metadata": {},
   "source": [
    "Physics 474 - Spring 2023 <br>\n",
    "\n",
    "Homework 0 - Basic practice\n",
    "\n",
    "<font color='red'>Author: "
   ]
  },
  {
   "cell_type": "markdown",
   "metadata": {},
   "source": [
    "________________________________________________________________________________\n",
    "NOTE: These problems are for practicing with python and not necessarily the best way\n",
    "to do the programming\n",
    "\n",
    "There are always many ways to do the code, and not just a \"right\" way. But, you need to do the coding within the rules and constraints I ask for. Thanks!\n",
    "________________________________________________________________________________\n",
    "Problem 1a: (1pt)\n",
    "\n",
    "Write a program with a single \"for-loop\" and \"if...else...\" that calculates  BOTH\n",
    "- The sum of integers from 1 to 100 \n",
    "- The sum of integers from 101 to 200\n",
    "\n",
    "In that single loop. Print out the results\n",
    "_______________________________________________________________________________"
   ]
  },
  {
   "cell_type": "code",
   "execution_count": null,
   "metadata": {},
   "outputs": [],
   "source": [
    "# Problem 1a code here...\n"
   ]
  },
  {
   "cell_type": "markdown",
   "metadata": {},
   "source": [
    "________________________________________________________________________________\n",
    "Problem 1b: (2pt)\n",
    "\n",
    "write a user defined function to calculate the sum of integers input as a parameter\n",
    "\n",
    "print the sum of integers from 1 to n for:\n",
    "- $10 \\le n \\le 50$ \n",
    "\n",
    "_______________________________________________________________________________"
   ]
  },
  {
   "cell_type": "code",
   "execution_count": null,
   "metadata": {},
   "outputs": [],
   "source": [
    "# Problem 1b code here...\n",
    "    "
   ]
  },
  {
   "cell_type": "markdown",
   "metadata": {},
   "source": [
    "________________________________________________________________________________\n",
    "Problem 2:  (2pts)\n",
    "\n",
    "Write a program that\n",
    "- prompts the user for an integer $1 \\le n\\le 50$\n",
    "- checks the input to be within range and responds appropriately\n",
    "- uses a loop to calculate and print the factorial of the input number\n",
    "_______________________________________________________________________________"
   ]
  },
  {
   "cell_type": "code",
   "execution_count": null,
   "metadata": {},
   "outputs": [],
   "source": [
    "# Problem 2 code here...\n"
   ]
  },
  {
   "cell_type": "markdown",
   "metadata": {},
   "source": [
    "________________________________________________________________________________\n",
    "Problem 3a: (2pts)\n",
    "\n",
    "Write a program without NumPy that calulates \n",
    "$f(x) = x^2$ for $-3 \\le x \\le 3$ at x-spacing of $0.5$ \n",
    "and prints a table with 2 columns $x$ and $f(x)$\n",
    "_______________________________________________________________________________"
   ]
  },
  {
   "cell_type": "code",
   "execution_count": null,
   "metadata": {},
   "outputs": [],
   "source": [
    "# Problem 3a code here...\n",
    "\n"
   ]
  },
  {
   "cell_type": "markdown",
   "metadata": {},
   "source": [
    "___________________________________________________________________________________\n",
    "Problem 3b: (2pts)\n",
    "\n",
    "Repeat problem 3a using NumPy arrays\n",
    "_______________________________________________________________________\n"
   ]
  },
  {
   "cell_type": "code",
   "execution_count": null,
   "metadata": {},
   "outputs": [],
   "source": [
    "# Problem 3b code here...\n",
    "\n"
   ]
  },
  {
   "cell_type": "markdown",
   "metadata": {},
   "source": [
    "___________________________________________________________________________________\n",
    "Problem 3c: (1pt)\n",
    "\n",
    "Make a simple plot of $f(x)$ vs. $x$\n",
    "_______________________________________________________________________"
   ]
  },
  {
   "cell_type": "code",
   "execution_count": null,
   "metadata": {},
   "outputs": [],
   "source": [
    "# Problem 3c code here...\n"
   ]
  },
  {
   "cell_type": "markdown",
   "metadata": {},
   "source": [
    "_____________________________________________________________________________________\n",
    "Problem 4:  (5pts)\n",
    "\n",
    "write a program that generates 500 random numbers from a uniform distribution\n",
    "for $0\\le x \\le 10$ and 500 random numbers from a normal distribution with mean $\\mu=0$ and width \n",
    "$\\sigma=1$.\n",
    "\n",
    "make 3 subplots on a 3x1 grid (3 rows) with\n",
    "- histogram of the uniform distribution random numbers\n",
    "- histogram of normal distribution random numbers\n",
    "- scatter plot of normal randoms vs uniform randoms\n",
    "\n"
   ]
  },
  {
   "cell_type": "code",
   "execution_count": null,
   "metadata": {},
   "outputs": [],
   "source": [
    "# Problem 4 code here...\n"
   ]
  }
 ],
 "metadata": {
  "kernelspec": {
   "display_name": "Python 3 (ipykernel)",
   "language": "python",
   "name": "python3"
  },
  "language_info": {
   "codemirror_mode": {
    "name": "ipython",
    "version": 3
   },
   "file_extension": ".py",
   "mimetype": "text/x-python",
   "name": "python",
   "nbconvert_exporter": "python",
   "pygments_lexer": "ipython3",
   "version": "3.9.15"
  }
 },
 "nbformat": 4,
 "nbformat_minor": 4
}
