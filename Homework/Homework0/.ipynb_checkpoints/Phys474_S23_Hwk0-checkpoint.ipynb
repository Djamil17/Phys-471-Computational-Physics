{
 "cells": [
  {
   "cell_type": "markdown",
   "metadata": {},
   "source": [
    "Physics 474 - Spring 2023 <br>\n",
    "\n",
    "Homework 0 - Basic practice\n",
    "\n",
    "<font color='red'>Author: Djamil Lakhdar-Hamina"
   ]
  },
  {
   "cell_type": "markdown",
   "metadata": {},
   "source": [
    "________________________________________________________________________________\n",
    "NOTE: These problems are for practicing with python and not necessarily the best way\n",
    "to do the programming\n",
    "\n",
    "There are always many ways to do the code, and not just a \"right\" way. But, you need to do the coding within the rules and constraints I ask for. Thanks!\n",
    "________________________________________________________________________________\n",
    "Problem 1a: (1pt)\n",
    "\n",
    "Write a program with a single \"for-loop\" and \"if...else...\" that calculates  BOTH\n",
    "- The sum of integers from 1 to 100 \n",
    "- The sum of integers from 101 to 200\n",
    "\n",
    "In that single loop. Print out the results\n",
    "_______________________________________________________________________________"
   ]
  },
  {
   "cell_type": "code",
   "execution_count": 1,
   "metadata": {
    "ExecuteTime": {
     "end_time": "2023-01-25T17:31:38.187383Z",
     "start_time": "2023-01-25T17:31:38.182149Z"
    }
   },
   "outputs": [
    {
     "name": "stdout",
     "output_type": "stream",
     "text": [
      "sum of 1-100 is 5050 \n",
      "sum of 101-200 is 15050\n"
     ]
    }
   ],
   "source": [
    "# Problem 1a code here...\n",
    "\n",
    "sum1=0\n",
    "sum2=0\n",
    "for i in range(1,201): \n",
    "  if i < 101 :\n",
    "        sum1=sum1+i \n",
    "  else :\n",
    "        sum2=sum2+i\n",
    "\n",
    "print(f\"sum of 1-100 is {sum1} \\nsum of 101-200 is {sum2}\")\n"
   ]
  },
  {
   "cell_type": "markdown",
   "metadata": {},
   "source": [
    "________________________________________________________________________________\n",
    "Problem 1b: (2pt)\n",
    "\n",
    "write a user defined function to calculate the sum of integers input as a parameter\n",
    "\n",
    "print the sum of integers from 1 to n for:\n",
    "- $10 \\le n \\le 50$ \n",
    "\n",
    "_______________________________________________________________________________"
   ]
  },
  {
   "cell_type": "code",
   "execution_count": null,
   "metadata": {},
   "outputs": [],
   "source": [
    "# Problem 1b code here...\n",
    "\n",
    "def gauss_sum(n1:int,n2:int,step:int)->int:\n",
    "\n",
    "    \"\"\"def gauss_sum(n1:int,n2:int,step:int)->int\n",
    "    \n",
    "    takes an integer n1 and n2 , such that n1<n2 , and calculates the sum of consecutive integers from n1-n2\n",
    "    where the spacing is chosen by parameter 'step' e.g.  n1=1 and n2=10 and step=2 then consecutive integers are\n",
    "    [1,3,5,7,9]\n",
    "\n",
    "    \"\"\"\n",
    "    \n",
    "    if n1>n2:\n",
    "        print(\"n1 > n2 , n1 must be less than n2...\")\n",
    "        return 1  \n",
    "    \n",
    "    return sum(range(n1,n2+1,step))\n",
    "\n",
    "print(f\"sum from 10-50 is {gauss_sum(10,50,1)}\")\n",
    "    "
   ]
  },
  {
   "cell_type": "markdown",
   "metadata": {},
   "source": [
    "________________________________________________________________________________\n",
    "Problem 2:  (2pts)\n",
    "\n",
    "Write a program that\n",
    "- prompts the user for an integer $1 \\le n\\le 50$\n",
    "- checks the input to be within range and responds appropriately\n",
    "- uses a loop to calculate and print the factorial of the input number\n",
    "_______________________________________________________________________________"
   ]
  },
  {
   "cell_type": "code",
   "execution_count": null,
   "metadata": {},
   "outputs": [],
   "source": [
    "# Problem 2 code here...\n",
    "\n",
    "def factorial(n:int)->int:\n",
    "    if n<=1:\n",
    "        return 1\n",
    "    else: \n",
    "      return n * factorial(n-1)\n",
    "\n",
    "\n",
    "tries=0\n",
    "max_tries=5\n",
    "minimum=1\n",
    "maximum=50\n",
    "while True: \n",
    "    tries=tries+1\n",
    "    integer=eval(input(\"enter integer between 1 and 50 : \"))\n",
    "    if 1<integer<50 or tries>max_tries:\n",
    "        break \n",
    "\n",
    "factorial(integer)\n"
   ]
  },
  {
   "cell_type": "markdown",
   "metadata": {},
   "source": [
    "________________________________________________________________________________\n",
    "Problem 3a: (2pts)\n",
    "\n",
    "Write a program without NumPy that calulates \n",
    "$f(x) = x^2$ for $-3 \\le x \\le 3$ at x-spacing of $0.5$ \n",
    "and prints a table with 2 columns $x$ and $f(x)$\n",
    "_______________________________________________________________________________"
   ]
  },
  {
   "cell_type": "code",
   "execution_count": null,
   "metadata": {},
   "outputs": [],
   "source": [
    "# Problem 3a code here...\n",
    "\n",
    "# Problem 3a code here...\n",
    "def f(x:float)->float:\n",
    "    return x**2\n",
    "\n",
    "#TODO: define frange \n",
    "xs=[x/10 for x in range(-30,35,5)]\n",
    "ys=[f(x)for x in xs]\n",
    "\n",
    "def print_table(xs:list,ys:list)->str:\n",
    "\n",
    "    \"\"\"def print_table(xs:list, ys:list)->str:\n",
    "\n",
    "    (method)\n",
    "    \n",
    "    prints a table of 2 columns x and y\n",
    "    \n",
    "    \n",
    "    \"\"\"\n",
    "\n",
    "    header=\"x   |  y\"\n",
    "    line=\"__________\"\n",
    "    rows='\\n'.join([str(x)+\" | \"+ str(y) for (x,y) in zip(xs,ys)])\n",
    "    table='\\n'.join([header,line, rows,line])\n",
    "    print(table)\n",
    "\n",
    "print_table(xs,ys)\n",
    "\n"
   ]
  },
  {
   "cell_type": "markdown",
   "metadata": {},
   "source": [
    "___________________________________________________________________________________\n",
    "Problem 3b: (2pts)\n",
    "\n",
    "Repeat problem 3a using NumPy arrays\n",
    "_______________________________________________________________________\n"
   ]
  },
  {
   "cell_type": "code",
   "execution_count": null,
   "metadata": {
    "ExecuteTime": {
     "end_time": "2023-01-25T14:38:32.547096Z",
     "start_time": "2023-01-25T14:38:32.542744Z"
    }
   },
   "outputs": [],
   "source": [
    "# Problem 3b code here...\n",
    "\n",
    "\n",
    "import numpy as np\n",
    "from tabulate import tabulate\n",
    "\n",
    "xs= np.arange(-3,3.5,.5)\n",
    "ys= xs**2 ## vectorized operation \n",
    "headers=['x','y']\n",
    "tab=tabulate(np.transpose([xs,ys]),headers,tablefmt=\"fancy_grid\")\n",
    "print(tab)\n",
    "\n"
   ]
  },
  {
   "cell_type": "markdown",
   "metadata": {},
   "source": [
    "___________________________________________________________________________________\n",
    "Problem 3c: (1pt)\n",
    "\n",
    "Make a simple plot of $f(x)$ vs. $x$\n",
    "_______________________________________________________________________"
   ]
  },
  {
   "cell_type": "code",
   "execution_count": null,
   "metadata": {
    "ExecuteTime": {
     "end_time": "2023-01-25T14:44:40.792147Z",
     "start_time": "2023-01-25T14:44:40.661417Z"
    }
   },
   "outputs": [],
   "source": [
    "# Problem 3c code here...\n",
    "\n",
    "import matplotlib.pyplot as plt\n",
    "fig = plt.figure()\n",
    "plt.plot(xs,ys)\n",
    "fig.suptitle('x vrs. f(x)')\n",
    "plt.xlabel('x')\n",
    "plt.ylabel('f(x)')\n",
    "plt.show()"
   ]
  },
  {
   "cell_type": "markdown",
   "metadata": {},
   "source": [
    "_____________________________________________________________________________________\n",
    "Problem 4:  (5pts)\n",
    "\n",
    "write a program that generates 500 random numbers from a uniform distribution\n",
    "for $0\\le x \\le 10$ and 500 random numbers from a normal distribution with mean $\\mu=0$ and width \n",
    "$\\sigma=1$.\n",
    "\n",
    "make 3 subplots on a 3x1 grid (3 rows) with\n",
    "- histogram of the uniform distribution random numbers\n",
    "- histogram of normal distribution random numbers\n",
    "- scatter plot of normal randoms vs uniform randoms\n",
    "\n"
   ]
  },
  {
   "cell_type": "code",
   "execution_count": null,
   "metadata": {
    "ExecuteTime": {
     "end_time": "2023-01-25T17:27:34.655297Z",
     "start_time": "2023-01-25T17:27:34.081547Z"
    }
   },
   "outputs": [],
   "source": [
    "# Problem 4 code here...\n",
    "uni_sample=np.random.uniform(low=0.0,high=10.0,size=500)\n",
    "uni_normal=np.random.normal(loc=0.0,scale=1.0,size=500)\n",
    "\n",
    "fig, axs = plt.subplots(3,1)\n",
    "fig.tight_layout(pad=1)\n",
    "fig.set_figwidth(10)\n",
    "fig.set_figheight(15)\n",
    "\n",
    "axs[0].hist(uni_sample)\n",
    "# x_ticks=range(min(round(uni_sample,2)), max(round(uni_sample,2)))\n",
    "axs[0].set_title('histogram of uniform distribution')\n",
    "# xticks=np.arange(round(min(uni_sample),1),round(max(uni_sample)+1,1))\n",
    "# print(xticks)\n",
    "# axs[0].set_xticks(xticks)\n",
    "# axs[0].set_xticklabels(xticks)\n",
    "axs[0].set_xlabel('uniform values')\n",
    "axs[1].hist(uni_normal)\n",
    "axs[1].set_title('histogram of normal distribution')\n",
    "axs[1].set_xlabel('normal values')\n",
    "axs[2].scatter(uni_normal,uni_sample)\n",
    "axs[2].set_title('uniform vrs. normal scatter plot')\n",
    "axs[2].set_xlabel('uniform values')\n",
    "axs[2].set_ylabel('scatter values')\n",
    "\n"
   ]
  },
  {
   "cell_type": "code",
   "execution_count": null,
   "metadata": {},
   "outputs": [],
   "source": []
  }
 ],
 "metadata": {
  "kernelspec": {
   "display_name": "Python 3 (ipykernel)",
   "language": "python",
   "name": "python3"
  },
  "language_info": {
   "codemirror_mode": {
    "name": "ipython",
    "version": 3
   },
   "file_extension": ".py",
   "mimetype": "text/x-python",
   "name": "python",
   "nbconvert_exporter": "python",
   "pygments_lexer": "ipython3",
   "version": "3.10.6"
  },
  "toc": {
   "base_numbering": 1,
   "nav_menu": {},
   "number_sections": true,
   "sideBar": true,
   "skip_h1_title": false,
   "title_cell": "Table of Contents",
   "title_sidebar": "Contents",
   "toc_cell": false,
   "toc_position": {},
   "toc_section_display": true,
   "toc_window_display": false
  }
 },
 "nbformat": 4,
 "nbformat_minor": 4
}
