{
 "cells": [
  {
   "cell_type": "code",
   "execution_count": 19,
   "id": "377e242a",
   "metadata": {
    "ExecuteTime": {
     "end_time": "2023-02-01T20:33:45.571649Z",
     "start_time": "2023-02-01T20:33:45.566964Z"
    }
   },
   "outputs": [],
   "source": [
    "\"\"\"\n",
    "Script: Use chi-squared \n",
    "Author: Djamil Lakhdar-Hamina\n",
    "\"\"\"\n",
    "\n",
    "import numpy as np\n",
    "import pandas as pd \n",
    "import matplotlib.pyplot as plt \n",
    "from scipy.optimize import curve_fit\n",
    "\n",
    "π=3.14 \n",
    "g=9.8 \n",
    "\n",
    "l=np.arange(.2,1.1,.1)\n",
    "l_σ=.01\n",
    "L=l+l_σ*np.random.randn(l.size)\n",
    "l_err=l_σ*np.ones(l.size)\n",
    "\n",
    "t=L + l_σ*np.random.randn(L.size)\n",
    "t_σ=.1\n",
    "t_err=t_σ*np.ones(l.size)\n",
    "T=t+2*π*np.sqrt(L/g)"
   ]
  },
  {
   "cell_type": "code",
   "execution_count": 23,
   "id": "355e7762",
   "metadata": {
    "ExecuteTime": {
     "end_time": "2023-02-01T20:34:23.793004Z",
     "start_time": "2023-02-01T20:34:23.788135Z"
    }
   },
   "outputs": [
    {
     "name": "stderr",
     "output_type": "stream",
     "text": [
      "/var/folders/l3/yzvtv_gj71q_099qk74yytb00000gp/T/ipykernel_2851/3077598409.py:2: RuntimeWarning: invalid value encountered in sqrt\n",
      "  return 2*π*np.sqrt(length/gravity)\n"
     ]
    }
   ],
   "source": [
    "def pendelum(length,gravity):\n",
    "    return 2*π*np.sqrt(length/gravity)\n",
    "\n",
    "p0=12.0\n",
    "popt,pcov=curve_fit(pendelum,L, T,p0,sigma=t_err)\n",
    "\n",
    "g_fit=popt[0]\n",
    "g_err=np.sqrt(pcov[0,0])\n"
   ]
  },
  {
   "cell_type": "code",
   "execution_count": null,
   "id": "a1c795de",
   "metadata": {},
   "outputs": [],
   "source": []
  }
 ],
 "metadata": {
  "kernelspec": {
   "display_name": "Python 3 (ipykernel)",
   "language": "python",
   "name": "python3"
  },
  "language_info": {
   "codemirror_mode": {
    "name": "ipython",
    "version": 3
   },
   "file_extension": ".py",
   "mimetype": "text/x-python",
   "name": "python",
   "nbconvert_exporter": "python",
   "pygments_lexer": "ipython3",
   "version": "3.10.6"
  },
  "toc": {
   "base_numbering": 1,
   "nav_menu": {},
   "number_sections": true,
   "sideBar": true,
   "skip_h1_title": false,
   "title_cell": "Table of Contents",
   "title_sidebar": "Contents",
   "toc_cell": false,
   "toc_position": {},
   "toc_section_display": true,
   "toc_window_display": false
  }
 },
 "nbformat": 4,
 "nbformat_minor": 5
}
